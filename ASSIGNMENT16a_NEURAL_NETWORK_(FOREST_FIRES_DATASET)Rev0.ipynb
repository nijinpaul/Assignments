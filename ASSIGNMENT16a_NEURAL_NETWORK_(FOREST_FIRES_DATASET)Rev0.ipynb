{
  "cells": [
    {
      "cell_type": "markdown",
      "metadata": {
        "id": "view-in-github",
        "colab_type": "text"
      },
      "source": [
        "<a href=\"https://colab.research.google.com/github/nijinpaul/Assignments/blob/main/ASSIGNMENT_NEURAL_NETWORK_(FOREST_FIRES_DATASET)Rev0.ipynb\" target=\"_parent\"><img src=\"https://colab.research.google.com/assets/colab-badge.svg\" alt=\"Open In Colab\"/></a>"
      ]
    },
    {
      "cell_type": "code",
      "execution_count": 54,
      "metadata": {
        "id": "cX3QAYJSEDuN"
      },
      "outputs": [],
      "source": [
        "import numpy as np\n",
        "import pandas as pd\n",
        "import matplotlib.pyplot as plt"
      ]
    },
    {
      "cell_type": "code",
      "execution_count": 55,
      "metadata": {
        "id": "F8ofkiTaEDuS"
      },
      "outputs": [],
      "source": [
        "from keras.models import Sequential\n",
        "from keras.layers import Dense"
      ]
    },
    {
      "cell_type": "code",
      "execution_count": 56,
      "metadata": {
        "id": "7z2G3KYcEDuT",
        "outputId": "4a83de75-91f3-443c-dc9e-e2ca97044f70",
        "colab": {
          "base_uri": "https://localhost:8080/",
          "height": 300
        }
      },
      "outputs": [
        {
          "output_type": "execute_result",
          "data": {
            "text/plain": [
              "  month  day  FFMC   DMC     DC  ISI  temp  RH  wind  rain  ...  monthfeb  \\\n",
              "0   mar  fri  86.2  26.2   94.3  5.1   8.2  51   6.7   0.0  ...         0   \n",
              "1   oct  tue  90.6  35.4  669.1  6.7  18.0  33   0.9   0.0  ...         0   \n",
              "2   oct  sat  90.6  43.7  686.9  6.7  14.6  33   1.3   0.0  ...         0   \n",
              "3   mar  fri  91.7  33.3   77.5  9.0   8.3  97   4.0   0.2  ...         0   \n",
              "4   mar  sun  89.3  51.3  102.2  9.6  11.4  99   1.8   0.0  ...         0   \n",
              "\n",
              "   monthjan  monthjul  monthjun  monthmar  monthmay  monthnov  monthoct  \\\n",
              "0         0         0         0         1         0         0         0   \n",
              "1         0         0         0         0         0         0         1   \n",
              "2         0         0         0         0         0         0         1   \n",
              "3         0         0         0         1         0         0         0   \n",
              "4         0         0         0         1         0         0         0   \n",
              "\n",
              "   monthsep  size_category  \n",
              "0         0          small  \n",
              "1         0          small  \n",
              "2         0          small  \n",
              "3         0          small  \n",
              "4         0          small  \n",
              "\n",
              "[5 rows x 31 columns]"
            ],
            "text/html": [
              "\n",
              "  <div id=\"df-fb14a96a-6517-4609-8ed5-f61629deb10e\">\n",
              "    <div class=\"colab-df-container\">\n",
              "      <div>\n",
              "<style scoped>\n",
              "    .dataframe tbody tr th:only-of-type {\n",
              "        vertical-align: middle;\n",
              "    }\n",
              "\n",
              "    .dataframe tbody tr th {\n",
              "        vertical-align: top;\n",
              "    }\n",
              "\n",
              "    .dataframe thead th {\n",
              "        text-align: right;\n",
              "    }\n",
              "</style>\n",
              "<table border=\"1\" class=\"dataframe\">\n",
              "  <thead>\n",
              "    <tr style=\"text-align: right;\">\n",
              "      <th></th>\n",
              "      <th>month</th>\n",
              "      <th>day</th>\n",
              "      <th>FFMC</th>\n",
              "      <th>DMC</th>\n",
              "      <th>DC</th>\n",
              "      <th>ISI</th>\n",
              "      <th>temp</th>\n",
              "      <th>RH</th>\n",
              "      <th>wind</th>\n",
              "      <th>rain</th>\n",
              "      <th>...</th>\n",
              "      <th>monthfeb</th>\n",
              "      <th>monthjan</th>\n",
              "      <th>monthjul</th>\n",
              "      <th>monthjun</th>\n",
              "      <th>monthmar</th>\n",
              "      <th>monthmay</th>\n",
              "      <th>monthnov</th>\n",
              "      <th>monthoct</th>\n",
              "      <th>monthsep</th>\n",
              "      <th>size_category</th>\n",
              "    </tr>\n",
              "  </thead>\n",
              "  <tbody>\n",
              "    <tr>\n",
              "      <th>0</th>\n",
              "      <td>mar</td>\n",
              "      <td>fri</td>\n",
              "      <td>86.2</td>\n",
              "      <td>26.2</td>\n",
              "      <td>94.3</td>\n",
              "      <td>5.1</td>\n",
              "      <td>8.2</td>\n",
              "      <td>51</td>\n",
              "      <td>6.7</td>\n",
              "      <td>0.0</td>\n",
              "      <td>...</td>\n",
              "      <td>0</td>\n",
              "      <td>0</td>\n",
              "      <td>0</td>\n",
              "      <td>0</td>\n",
              "      <td>1</td>\n",
              "      <td>0</td>\n",
              "      <td>0</td>\n",
              "      <td>0</td>\n",
              "      <td>0</td>\n",
              "      <td>small</td>\n",
              "    </tr>\n",
              "    <tr>\n",
              "      <th>1</th>\n",
              "      <td>oct</td>\n",
              "      <td>tue</td>\n",
              "      <td>90.6</td>\n",
              "      <td>35.4</td>\n",
              "      <td>669.1</td>\n",
              "      <td>6.7</td>\n",
              "      <td>18.0</td>\n",
              "      <td>33</td>\n",
              "      <td>0.9</td>\n",
              "      <td>0.0</td>\n",
              "      <td>...</td>\n",
              "      <td>0</td>\n",
              "      <td>0</td>\n",
              "      <td>0</td>\n",
              "      <td>0</td>\n",
              "      <td>0</td>\n",
              "      <td>0</td>\n",
              "      <td>0</td>\n",
              "      <td>1</td>\n",
              "      <td>0</td>\n",
              "      <td>small</td>\n",
              "    </tr>\n",
              "    <tr>\n",
              "      <th>2</th>\n",
              "      <td>oct</td>\n",
              "      <td>sat</td>\n",
              "      <td>90.6</td>\n",
              "      <td>43.7</td>\n",
              "      <td>686.9</td>\n",
              "      <td>6.7</td>\n",
              "      <td>14.6</td>\n",
              "      <td>33</td>\n",
              "      <td>1.3</td>\n",
              "      <td>0.0</td>\n",
              "      <td>...</td>\n",
              "      <td>0</td>\n",
              "      <td>0</td>\n",
              "      <td>0</td>\n",
              "      <td>0</td>\n",
              "      <td>0</td>\n",
              "      <td>0</td>\n",
              "      <td>0</td>\n",
              "      <td>1</td>\n",
              "      <td>0</td>\n",
              "      <td>small</td>\n",
              "    </tr>\n",
              "    <tr>\n",
              "      <th>3</th>\n",
              "      <td>mar</td>\n",
              "      <td>fri</td>\n",
              "      <td>91.7</td>\n",
              "      <td>33.3</td>\n",
              "      <td>77.5</td>\n",
              "      <td>9.0</td>\n",
              "      <td>8.3</td>\n",
              "      <td>97</td>\n",
              "      <td>4.0</td>\n",
              "      <td>0.2</td>\n",
              "      <td>...</td>\n",
              "      <td>0</td>\n",
              "      <td>0</td>\n",
              "      <td>0</td>\n",
              "      <td>0</td>\n",
              "      <td>1</td>\n",
              "      <td>0</td>\n",
              "      <td>0</td>\n",
              "      <td>0</td>\n",
              "      <td>0</td>\n",
              "      <td>small</td>\n",
              "    </tr>\n",
              "    <tr>\n",
              "      <th>4</th>\n",
              "      <td>mar</td>\n",
              "      <td>sun</td>\n",
              "      <td>89.3</td>\n",
              "      <td>51.3</td>\n",
              "      <td>102.2</td>\n",
              "      <td>9.6</td>\n",
              "      <td>11.4</td>\n",
              "      <td>99</td>\n",
              "      <td>1.8</td>\n",
              "      <td>0.0</td>\n",
              "      <td>...</td>\n",
              "      <td>0</td>\n",
              "      <td>0</td>\n",
              "      <td>0</td>\n",
              "      <td>0</td>\n",
              "      <td>1</td>\n",
              "      <td>0</td>\n",
              "      <td>0</td>\n",
              "      <td>0</td>\n",
              "      <td>0</td>\n",
              "      <td>small</td>\n",
              "    </tr>\n",
              "  </tbody>\n",
              "</table>\n",
              "<p>5 rows × 31 columns</p>\n",
              "</div>\n",
              "      <button class=\"colab-df-convert\" onclick=\"convertToInteractive('df-fb14a96a-6517-4609-8ed5-f61629deb10e')\"\n",
              "              title=\"Convert this dataframe to an interactive table.\"\n",
              "              style=\"display:none;\">\n",
              "        \n",
              "  <svg xmlns=\"http://www.w3.org/2000/svg\" height=\"24px\"viewBox=\"0 0 24 24\"\n",
              "       width=\"24px\">\n",
              "    <path d=\"M0 0h24v24H0V0z\" fill=\"none\"/>\n",
              "    <path d=\"M18.56 5.44l.94 2.06.94-2.06 2.06-.94-2.06-.94-.94-2.06-.94 2.06-2.06.94zm-11 1L8.5 8.5l.94-2.06 2.06-.94-2.06-.94L8.5 2.5l-.94 2.06-2.06.94zm10 10l.94 2.06.94-2.06 2.06-.94-2.06-.94-.94-2.06-.94 2.06-2.06.94z\"/><path d=\"M17.41 7.96l-1.37-1.37c-.4-.4-.92-.59-1.43-.59-.52 0-1.04.2-1.43.59L10.3 9.45l-7.72 7.72c-.78.78-.78 2.05 0 2.83L4 21.41c.39.39.9.59 1.41.59.51 0 1.02-.2 1.41-.59l7.78-7.78 2.81-2.81c.8-.78.8-2.07 0-2.86zM5.41 20L4 18.59l7.72-7.72 1.47 1.35L5.41 20z\"/>\n",
              "  </svg>\n",
              "      </button>\n",
              "      \n",
              "  <style>\n",
              "    .colab-df-container {\n",
              "      display:flex;\n",
              "      flex-wrap:wrap;\n",
              "      gap: 12px;\n",
              "    }\n",
              "\n",
              "    .colab-df-convert {\n",
              "      background-color: #E8F0FE;\n",
              "      border: none;\n",
              "      border-radius: 50%;\n",
              "      cursor: pointer;\n",
              "      display: none;\n",
              "      fill: #1967D2;\n",
              "      height: 32px;\n",
              "      padding: 0 0 0 0;\n",
              "      width: 32px;\n",
              "    }\n",
              "\n",
              "    .colab-df-convert:hover {\n",
              "      background-color: #E2EBFA;\n",
              "      box-shadow: 0px 1px 2px rgba(60, 64, 67, 0.3), 0px 1px 3px 1px rgba(60, 64, 67, 0.15);\n",
              "      fill: #174EA6;\n",
              "    }\n",
              "\n",
              "    [theme=dark] .colab-df-convert {\n",
              "      background-color: #3B4455;\n",
              "      fill: #D2E3FC;\n",
              "    }\n",
              "\n",
              "    [theme=dark] .colab-df-convert:hover {\n",
              "      background-color: #434B5C;\n",
              "      box-shadow: 0px 1px 3px 1px rgba(0, 0, 0, 0.15);\n",
              "      filter: drop-shadow(0px 1px 2px rgba(0, 0, 0, 0.3));\n",
              "      fill: #FFFFFF;\n",
              "    }\n",
              "  </style>\n",
              "\n",
              "      <script>\n",
              "        const buttonEl =\n",
              "          document.querySelector('#df-fb14a96a-6517-4609-8ed5-f61629deb10e button.colab-df-convert');\n",
              "        buttonEl.style.display =\n",
              "          google.colab.kernel.accessAllowed ? 'block' : 'none';\n",
              "\n",
              "        async function convertToInteractive(key) {\n",
              "          const element = document.querySelector('#df-fb14a96a-6517-4609-8ed5-f61629deb10e');\n",
              "          const dataTable =\n",
              "            await google.colab.kernel.invokeFunction('convertToInteractive',\n",
              "                                                     [key], {});\n",
              "          if (!dataTable) return;\n",
              "\n",
              "          const docLinkHtml = 'Like what you see? Visit the ' +\n",
              "            '<a target=\"_blank\" href=https://colab.research.google.com/notebooks/data_table.ipynb>data table notebook</a>'\n",
              "            + ' to learn more about interactive tables.';\n",
              "          element.innerHTML = '';\n",
              "          dataTable['output_type'] = 'display_data';\n",
              "          await google.colab.output.renderOutput(dataTable, element);\n",
              "          const docLink = document.createElement('div');\n",
              "          docLink.innerHTML = docLinkHtml;\n",
              "          element.appendChild(docLink);\n",
              "        }\n",
              "      </script>\n",
              "    </div>\n",
              "  </div>\n",
              "  "
            ]
          },
          "metadata": {},
          "execution_count": 56
        }
      ],
      "source": [
        "df=pd.read_csv('/content/forestfires.csv')\n",
        "df.head()"
      ]
    },
    {
      "cell_type": "code",
      "execution_count": 57,
      "metadata": {
        "id": "BL0SJy3XEDuV",
        "outputId": "14e94dc2-347f-444c-bc4d-2cc5e58bf9b4",
        "colab": {
          "base_uri": "https://localhost:8080/",
          "height": 0
        }
      },
      "outputs": [
        {
          "output_type": "execute_result",
          "data": {
            "text/plain": [
              "Index(['month', 'day', 'FFMC', 'DMC', 'DC', 'ISI', 'temp', 'RH', 'wind',\n",
              "       'rain', 'area', 'dayfri', 'daymon', 'daysat', 'daysun', 'daythu',\n",
              "       'daytue', 'daywed', 'monthapr', 'monthaug', 'monthdec', 'monthfeb',\n",
              "       'monthjan', 'monthjul', 'monthjun', 'monthmar', 'monthmay', 'monthnov',\n",
              "       'monthoct', 'monthsep', 'size_category'],\n",
              "      dtype='object')"
            ]
          },
          "metadata": {},
          "execution_count": 57
        }
      ],
      "source": [
        "df.columns"
      ]
    },
    {
      "cell_type": "code",
      "execution_count": 58,
      "metadata": {
        "id": "6d3k91fjEDuW"
      },
      "outputs": [],
      "source": [
        "df.drop(['month','day'],axis=1,inplace=True)"
      ]
    },
    {
      "cell_type": "code",
      "execution_count": 59,
      "metadata": {
        "id": "pdw2bibcEDuW",
        "outputId": "3f14cb28-a0b5-40dc-84fa-1e2483dedbbc",
        "colab": {
          "base_uri": "https://localhost:8080/",
          "height": 0
        }
      },
      "outputs": [
        {
          "output_type": "stream",
          "name": "stdout",
          "text": [
            "Shape of dataset before dropping duplicates: (517, 29)\n"
          ]
        }
      ],
      "source": [
        "print('Shape of dataset before dropping duplicates:',df.shape)"
      ]
    },
    {
      "cell_type": "code",
      "execution_count": 60,
      "metadata": {
        "id": "bJceQf1ZEDuX"
      },
      "outputs": [],
      "source": [
        "df.drop_duplicates(keep=False,inplace=True)"
      ]
    },
    {
      "cell_type": "code",
      "execution_count": 61,
      "metadata": {
        "id": "enUWP4DsEDuY",
        "outputId": "7ce0c6fd-d26a-46db-dda0-f9a6a5f405a5",
        "colab": {
          "base_uri": "https://localhost:8080/",
          "height": 0
        }
      },
      "outputs": [
        {
          "output_type": "stream",
          "name": "stdout",
          "text": [
            "Shape of dataset after dropping duplicates: (501, 29)\n"
          ]
        }
      ],
      "source": [
        "print('Shape of dataset after dropping duplicates:',df.shape)"
      ]
    },
    {
      "cell_type": "code",
      "execution_count": 62,
      "metadata": {
        "id": "ZQnbQZtOEDuZ",
        "outputId": "bbfe0b88-a85d-4709-c982-cf6cd345d61e",
        "colab": {
          "base_uri": "https://localhost:8080/",
          "height": 300
        }
      },
      "outputs": [
        {
          "output_type": "execute_result",
          "data": {
            "text/plain": [
              "   FFMC   DMC     DC  ISI  temp  RH  wind  rain  area  dayfri  ...  monthfeb  \\\n",
              "0  86.2  26.2   94.3  5.1   8.2  51   6.7   0.0   0.0       1  ...         0   \n",
              "1  90.6  35.4  669.1  6.7  18.0  33   0.9   0.0   0.0       0  ...         0   \n",
              "2  90.6  43.7  686.9  6.7  14.6  33   1.3   0.0   0.0       0  ...         0   \n",
              "3  91.7  33.3   77.5  9.0   8.3  97   4.0   0.2   0.0       1  ...         0   \n",
              "4  89.3  51.3  102.2  9.6  11.4  99   1.8   0.0   0.0       0  ...         0   \n",
              "\n",
              "   monthjan  monthjul  monthjun  monthmar  monthmay  monthnov  monthoct  \\\n",
              "0         0         0         0         1         0         0         0   \n",
              "1         0         0         0         0         0         0         1   \n",
              "2         0         0         0         0         0         0         1   \n",
              "3         0         0         0         1         0         0         0   \n",
              "4         0         0         0         1         0         0         0   \n",
              "\n",
              "   monthsep  size_category  \n",
              "0         0          small  \n",
              "1         0          small  \n",
              "2         0          small  \n",
              "3         0          small  \n",
              "4         0          small  \n",
              "\n",
              "[5 rows x 29 columns]"
            ],
            "text/html": [
              "\n",
              "  <div id=\"df-df718c47-7467-4e85-9c17-cfff7830fffc\">\n",
              "    <div class=\"colab-df-container\">\n",
              "      <div>\n",
              "<style scoped>\n",
              "    .dataframe tbody tr th:only-of-type {\n",
              "        vertical-align: middle;\n",
              "    }\n",
              "\n",
              "    .dataframe tbody tr th {\n",
              "        vertical-align: top;\n",
              "    }\n",
              "\n",
              "    .dataframe thead th {\n",
              "        text-align: right;\n",
              "    }\n",
              "</style>\n",
              "<table border=\"1\" class=\"dataframe\">\n",
              "  <thead>\n",
              "    <tr style=\"text-align: right;\">\n",
              "      <th></th>\n",
              "      <th>FFMC</th>\n",
              "      <th>DMC</th>\n",
              "      <th>DC</th>\n",
              "      <th>ISI</th>\n",
              "      <th>temp</th>\n",
              "      <th>RH</th>\n",
              "      <th>wind</th>\n",
              "      <th>rain</th>\n",
              "      <th>area</th>\n",
              "      <th>dayfri</th>\n",
              "      <th>...</th>\n",
              "      <th>monthfeb</th>\n",
              "      <th>monthjan</th>\n",
              "      <th>monthjul</th>\n",
              "      <th>monthjun</th>\n",
              "      <th>monthmar</th>\n",
              "      <th>monthmay</th>\n",
              "      <th>monthnov</th>\n",
              "      <th>monthoct</th>\n",
              "      <th>monthsep</th>\n",
              "      <th>size_category</th>\n",
              "    </tr>\n",
              "  </thead>\n",
              "  <tbody>\n",
              "    <tr>\n",
              "      <th>0</th>\n",
              "      <td>86.2</td>\n",
              "      <td>26.2</td>\n",
              "      <td>94.3</td>\n",
              "      <td>5.1</td>\n",
              "      <td>8.2</td>\n",
              "      <td>51</td>\n",
              "      <td>6.7</td>\n",
              "      <td>0.0</td>\n",
              "      <td>0.0</td>\n",
              "      <td>1</td>\n",
              "      <td>...</td>\n",
              "      <td>0</td>\n",
              "      <td>0</td>\n",
              "      <td>0</td>\n",
              "      <td>0</td>\n",
              "      <td>1</td>\n",
              "      <td>0</td>\n",
              "      <td>0</td>\n",
              "      <td>0</td>\n",
              "      <td>0</td>\n",
              "      <td>small</td>\n",
              "    </tr>\n",
              "    <tr>\n",
              "      <th>1</th>\n",
              "      <td>90.6</td>\n",
              "      <td>35.4</td>\n",
              "      <td>669.1</td>\n",
              "      <td>6.7</td>\n",
              "      <td>18.0</td>\n",
              "      <td>33</td>\n",
              "      <td>0.9</td>\n",
              "      <td>0.0</td>\n",
              "      <td>0.0</td>\n",
              "      <td>0</td>\n",
              "      <td>...</td>\n",
              "      <td>0</td>\n",
              "      <td>0</td>\n",
              "      <td>0</td>\n",
              "      <td>0</td>\n",
              "      <td>0</td>\n",
              "      <td>0</td>\n",
              "      <td>0</td>\n",
              "      <td>1</td>\n",
              "      <td>0</td>\n",
              "      <td>small</td>\n",
              "    </tr>\n",
              "    <tr>\n",
              "      <th>2</th>\n",
              "      <td>90.6</td>\n",
              "      <td>43.7</td>\n",
              "      <td>686.9</td>\n",
              "      <td>6.7</td>\n",
              "      <td>14.6</td>\n",
              "      <td>33</td>\n",
              "      <td>1.3</td>\n",
              "      <td>0.0</td>\n",
              "      <td>0.0</td>\n",
              "      <td>0</td>\n",
              "      <td>...</td>\n",
              "      <td>0</td>\n",
              "      <td>0</td>\n",
              "      <td>0</td>\n",
              "      <td>0</td>\n",
              "      <td>0</td>\n",
              "      <td>0</td>\n",
              "      <td>0</td>\n",
              "      <td>1</td>\n",
              "      <td>0</td>\n",
              "      <td>small</td>\n",
              "    </tr>\n",
              "    <tr>\n",
              "      <th>3</th>\n",
              "      <td>91.7</td>\n",
              "      <td>33.3</td>\n",
              "      <td>77.5</td>\n",
              "      <td>9.0</td>\n",
              "      <td>8.3</td>\n",
              "      <td>97</td>\n",
              "      <td>4.0</td>\n",
              "      <td>0.2</td>\n",
              "      <td>0.0</td>\n",
              "      <td>1</td>\n",
              "      <td>...</td>\n",
              "      <td>0</td>\n",
              "      <td>0</td>\n",
              "      <td>0</td>\n",
              "      <td>0</td>\n",
              "      <td>1</td>\n",
              "      <td>0</td>\n",
              "      <td>0</td>\n",
              "      <td>0</td>\n",
              "      <td>0</td>\n",
              "      <td>small</td>\n",
              "    </tr>\n",
              "    <tr>\n",
              "      <th>4</th>\n",
              "      <td>89.3</td>\n",
              "      <td>51.3</td>\n",
              "      <td>102.2</td>\n",
              "      <td>9.6</td>\n",
              "      <td>11.4</td>\n",
              "      <td>99</td>\n",
              "      <td>1.8</td>\n",
              "      <td>0.0</td>\n",
              "      <td>0.0</td>\n",
              "      <td>0</td>\n",
              "      <td>...</td>\n",
              "      <td>0</td>\n",
              "      <td>0</td>\n",
              "      <td>0</td>\n",
              "      <td>0</td>\n",
              "      <td>1</td>\n",
              "      <td>0</td>\n",
              "      <td>0</td>\n",
              "      <td>0</td>\n",
              "      <td>0</td>\n",
              "      <td>small</td>\n",
              "    </tr>\n",
              "  </tbody>\n",
              "</table>\n",
              "<p>5 rows × 29 columns</p>\n",
              "</div>\n",
              "      <button class=\"colab-df-convert\" onclick=\"convertToInteractive('df-df718c47-7467-4e85-9c17-cfff7830fffc')\"\n",
              "              title=\"Convert this dataframe to an interactive table.\"\n",
              "              style=\"display:none;\">\n",
              "        \n",
              "  <svg xmlns=\"http://www.w3.org/2000/svg\" height=\"24px\"viewBox=\"0 0 24 24\"\n",
              "       width=\"24px\">\n",
              "    <path d=\"M0 0h24v24H0V0z\" fill=\"none\"/>\n",
              "    <path d=\"M18.56 5.44l.94 2.06.94-2.06 2.06-.94-2.06-.94-.94-2.06-.94 2.06-2.06.94zm-11 1L8.5 8.5l.94-2.06 2.06-.94-2.06-.94L8.5 2.5l-.94 2.06-2.06.94zm10 10l.94 2.06.94-2.06 2.06-.94-2.06-.94-.94-2.06-.94 2.06-2.06.94z\"/><path d=\"M17.41 7.96l-1.37-1.37c-.4-.4-.92-.59-1.43-.59-.52 0-1.04.2-1.43.59L10.3 9.45l-7.72 7.72c-.78.78-.78 2.05 0 2.83L4 21.41c.39.39.9.59 1.41.59.51 0 1.02-.2 1.41-.59l7.78-7.78 2.81-2.81c.8-.78.8-2.07 0-2.86zM5.41 20L4 18.59l7.72-7.72 1.47 1.35L5.41 20z\"/>\n",
              "  </svg>\n",
              "      </button>\n",
              "      \n",
              "  <style>\n",
              "    .colab-df-container {\n",
              "      display:flex;\n",
              "      flex-wrap:wrap;\n",
              "      gap: 12px;\n",
              "    }\n",
              "\n",
              "    .colab-df-convert {\n",
              "      background-color: #E8F0FE;\n",
              "      border: none;\n",
              "      border-radius: 50%;\n",
              "      cursor: pointer;\n",
              "      display: none;\n",
              "      fill: #1967D2;\n",
              "      height: 32px;\n",
              "      padding: 0 0 0 0;\n",
              "      width: 32px;\n",
              "    }\n",
              "\n",
              "    .colab-df-convert:hover {\n",
              "      background-color: #E2EBFA;\n",
              "      box-shadow: 0px 1px 2px rgba(60, 64, 67, 0.3), 0px 1px 3px 1px rgba(60, 64, 67, 0.15);\n",
              "      fill: #174EA6;\n",
              "    }\n",
              "\n",
              "    [theme=dark] .colab-df-convert {\n",
              "      background-color: #3B4455;\n",
              "      fill: #D2E3FC;\n",
              "    }\n",
              "\n",
              "    [theme=dark] .colab-df-convert:hover {\n",
              "      background-color: #434B5C;\n",
              "      box-shadow: 0px 1px 3px 1px rgba(0, 0, 0, 0.15);\n",
              "      filter: drop-shadow(0px 1px 2px rgba(0, 0, 0, 0.3));\n",
              "      fill: #FFFFFF;\n",
              "    }\n",
              "  </style>\n",
              "\n",
              "      <script>\n",
              "        const buttonEl =\n",
              "          document.querySelector('#df-df718c47-7467-4e85-9c17-cfff7830fffc button.colab-df-convert');\n",
              "        buttonEl.style.display =\n",
              "          google.colab.kernel.accessAllowed ? 'block' : 'none';\n",
              "\n",
              "        async function convertToInteractive(key) {\n",
              "          const element = document.querySelector('#df-df718c47-7467-4e85-9c17-cfff7830fffc');\n",
              "          const dataTable =\n",
              "            await google.colab.kernel.invokeFunction('convertToInteractive',\n",
              "                                                     [key], {});\n",
              "          if (!dataTable) return;\n",
              "\n",
              "          const docLinkHtml = 'Like what you see? Visit the ' +\n",
              "            '<a target=\"_blank\" href=https://colab.research.google.com/notebooks/data_table.ipynb>data table notebook</a>'\n",
              "            + ' to learn more about interactive tables.';\n",
              "          element.innerHTML = '';\n",
              "          dataTable['output_type'] = 'display_data';\n",
              "          await google.colab.output.renderOutput(dataTable, element);\n",
              "          const docLink = document.createElement('div');\n",
              "          docLink.innerHTML = docLinkHtml;\n",
              "          element.appendChild(docLink);\n",
              "        }\n",
              "      </script>\n",
              "    </div>\n",
              "  </div>\n",
              "  "
            ]
          },
          "metadata": {},
          "execution_count": 62
        }
      ],
      "source": [
        "df.head()"
      ]
    },
    {
      "cell_type": "code",
      "execution_count": 63,
      "metadata": {
        "id": "yK9-CF9wEDua",
        "outputId": "7e6064ca-fcc5-4a0e-aee8-e6877b0e5012",
        "colab": {
          "base_uri": "https://localhost:8080/",
          "height": 394
        }
      },
      "outputs": [
        {
          "output_type": "execute_result",
          "data": {
            "text/plain": [
              "             FFMC         DMC          DC         ISI        temp          RH  \\\n",
              "count  501.000000  501.000000  501.000000  501.000000  501.000000  501.000000   \n",
              "mean    90.590619  109.578842  547.630339    9.025549   18.840918   44.217565   \n",
              "std      5.591709   63.546318  248.330243    4.611358    5.876331   16.414219   \n",
              "min     18.700000    1.100000    7.900000    0.000000    2.200000   15.000000   \n",
              "25%     90.200000   61.100000  437.700000    6.400000   15.400000   32.000000   \n",
              "50%     91.600000  108.300000  664.200000    8.400000   19.300000   42.000000   \n",
              "75%     92.900000  141.200000  713.000000   11.000000   22.800000   53.000000   \n",
              "max     96.200000  291.300000  860.600000   56.100000   33.300000  100.000000   \n",
              "\n",
              "             wind        rain         area      dayfri  ...    monthdec  \\\n",
              "count  501.000000  501.000000   501.000000  501.000000  ...  501.000000   \n",
              "mean     4.004990    0.019162    13.143174    0.161677  ...    0.017964   \n",
              "std      1.810424    0.296567    64.622131    0.368522  ...    0.132954   \n",
              "min      0.400000    0.000000     0.000000    0.000000  ...    0.000000   \n",
              "25%      2.700000    0.000000     0.000000    0.000000  ...    0.000000   \n",
              "50%      4.000000    0.000000     0.710000    0.000000  ...    0.000000   \n",
              "75%      5.400000    0.000000     6.610000    0.000000  ...    0.000000   \n",
              "max      9.400000    6.400000  1090.840000    1.000000  ...    1.000000   \n",
              "\n",
              "         monthfeb    monthjan    monthjul    monthjun    monthmar    monthmay  \\\n",
              "count  501.000000  501.000000  501.000000  501.000000  501.000000  501.000000   \n",
              "mean     0.039920    0.003992    0.063872    0.029940    0.103792    0.003992   \n",
              "std      0.195967    0.063119    0.244770    0.170592    0.305296    0.063119   \n",
              "min      0.000000    0.000000    0.000000    0.000000    0.000000    0.000000   \n",
              "25%      0.000000    0.000000    0.000000    0.000000    0.000000    0.000000   \n",
              "50%      0.000000    0.000000    0.000000    0.000000    0.000000    0.000000   \n",
              "75%      0.000000    0.000000    0.000000    0.000000    0.000000    0.000000   \n",
              "max      1.000000    1.000000    1.000000    1.000000    1.000000    1.000000   \n",
              "\n",
              "         monthnov    monthoct    monthsep  \n",
              "count  501.000000  501.000000  501.000000  \n",
              "mean     0.001996    0.029940    0.343313  \n",
              "std      0.044677    0.170592    0.475290  \n",
              "min      0.000000    0.000000    0.000000  \n",
              "25%      0.000000    0.000000    0.000000  \n",
              "50%      0.000000    0.000000    0.000000  \n",
              "75%      0.000000    0.000000    1.000000  \n",
              "max      1.000000    1.000000    1.000000  \n",
              "\n",
              "[8 rows x 28 columns]"
            ],
            "text/html": [
              "\n",
              "  <div id=\"df-ac32fc9a-acaf-45d5-84a6-d74b06d37a11\">\n",
              "    <div class=\"colab-df-container\">\n",
              "      <div>\n",
              "<style scoped>\n",
              "    .dataframe tbody tr th:only-of-type {\n",
              "        vertical-align: middle;\n",
              "    }\n",
              "\n",
              "    .dataframe tbody tr th {\n",
              "        vertical-align: top;\n",
              "    }\n",
              "\n",
              "    .dataframe thead th {\n",
              "        text-align: right;\n",
              "    }\n",
              "</style>\n",
              "<table border=\"1\" class=\"dataframe\">\n",
              "  <thead>\n",
              "    <tr style=\"text-align: right;\">\n",
              "      <th></th>\n",
              "      <th>FFMC</th>\n",
              "      <th>DMC</th>\n",
              "      <th>DC</th>\n",
              "      <th>ISI</th>\n",
              "      <th>temp</th>\n",
              "      <th>RH</th>\n",
              "      <th>wind</th>\n",
              "      <th>rain</th>\n",
              "      <th>area</th>\n",
              "      <th>dayfri</th>\n",
              "      <th>...</th>\n",
              "      <th>monthdec</th>\n",
              "      <th>monthfeb</th>\n",
              "      <th>monthjan</th>\n",
              "      <th>monthjul</th>\n",
              "      <th>monthjun</th>\n",
              "      <th>monthmar</th>\n",
              "      <th>monthmay</th>\n",
              "      <th>monthnov</th>\n",
              "      <th>monthoct</th>\n",
              "      <th>monthsep</th>\n",
              "    </tr>\n",
              "  </thead>\n",
              "  <tbody>\n",
              "    <tr>\n",
              "      <th>count</th>\n",
              "      <td>501.000000</td>\n",
              "      <td>501.000000</td>\n",
              "      <td>501.000000</td>\n",
              "      <td>501.000000</td>\n",
              "      <td>501.000000</td>\n",
              "      <td>501.000000</td>\n",
              "      <td>501.000000</td>\n",
              "      <td>501.000000</td>\n",
              "      <td>501.000000</td>\n",
              "      <td>501.000000</td>\n",
              "      <td>...</td>\n",
              "      <td>501.000000</td>\n",
              "      <td>501.000000</td>\n",
              "      <td>501.000000</td>\n",
              "      <td>501.000000</td>\n",
              "      <td>501.000000</td>\n",
              "      <td>501.000000</td>\n",
              "      <td>501.000000</td>\n",
              "      <td>501.000000</td>\n",
              "      <td>501.000000</td>\n",
              "      <td>501.000000</td>\n",
              "    </tr>\n",
              "    <tr>\n",
              "      <th>mean</th>\n",
              "      <td>90.590619</td>\n",
              "      <td>109.578842</td>\n",
              "      <td>547.630339</td>\n",
              "      <td>9.025549</td>\n",
              "      <td>18.840918</td>\n",
              "      <td>44.217565</td>\n",
              "      <td>4.004990</td>\n",
              "      <td>0.019162</td>\n",
              "      <td>13.143174</td>\n",
              "      <td>0.161677</td>\n",
              "      <td>...</td>\n",
              "      <td>0.017964</td>\n",
              "      <td>0.039920</td>\n",
              "      <td>0.003992</td>\n",
              "      <td>0.063872</td>\n",
              "      <td>0.029940</td>\n",
              "      <td>0.103792</td>\n",
              "      <td>0.003992</td>\n",
              "      <td>0.001996</td>\n",
              "      <td>0.029940</td>\n",
              "      <td>0.343313</td>\n",
              "    </tr>\n",
              "    <tr>\n",
              "      <th>std</th>\n",
              "      <td>5.591709</td>\n",
              "      <td>63.546318</td>\n",
              "      <td>248.330243</td>\n",
              "      <td>4.611358</td>\n",
              "      <td>5.876331</td>\n",
              "      <td>16.414219</td>\n",
              "      <td>1.810424</td>\n",
              "      <td>0.296567</td>\n",
              "      <td>64.622131</td>\n",
              "      <td>0.368522</td>\n",
              "      <td>...</td>\n",
              "      <td>0.132954</td>\n",
              "      <td>0.195967</td>\n",
              "      <td>0.063119</td>\n",
              "      <td>0.244770</td>\n",
              "      <td>0.170592</td>\n",
              "      <td>0.305296</td>\n",
              "      <td>0.063119</td>\n",
              "      <td>0.044677</td>\n",
              "      <td>0.170592</td>\n",
              "      <td>0.475290</td>\n",
              "    </tr>\n",
              "    <tr>\n",
              "      <th>min</th>\n",
              "      <td>18.700000</td>\n",
              "      <td>1.100000</td>\n",
              "      <td>7.900000</td>\n",
              "      <td>0.000000</td>\n",
              "      <td>2.200000</td>\n",
              "      <td>15.000000</td>\n",
              "      <td>0.400000</td>\n",
              "      <td>0.000000</td>\n",
              "      <td>0.000000</td>\n",
              "      <td>0.000000</td>\n",
              "      <td>...</td>\n",
              "      <td>0.000000</td>\n",
              "      <td>0.000000</td>\n",
              "      <td>0.000000</td>\n",
              "      <td>0.000000</td>\n",
              "      <td>0.000000</td>\n",
              "      <td>0.000000</td>\n",
              "      <td>0.000000</td>\n",
              "      <td>0.000000</td>\n",
              "      <td>0.000000</td>\n",
              "      <td>0.000000</td>\n",
              "    </tr>\n",
              "    <tr>\n",
              "      <th>25%</th>\n",
              "      <td>90.200000</td>\n",
              "      <td>61.100000</td>\n",
              "      <td>437.700000</td>\n",
              "      <td>6.400000</td>\n",
              "      <td>15.400000</td>\n",
              "      <td>32.000000</td>\n",
              "      <td>2.700000</td>\n",
              "      <td>0.000000</td>\n",
              "      <td>0.000000</td>\n",
              "      <td>0.000000</td>\n",
              "      <td>...</td>\n",
              "      <td>0.000000</td>\n",
              "      <td>0.000000</td>\n",
              "      <td>0.000000</td>\n",
              "      <td>0.000000</td>\n",
              "      <td>0.000000</td>\n",
              "      <td>0.000000</td>\n",
              "      <td>0.000000</td>\n",
              "      <td>0.000000</td>\n",
              "      <td>0.000000</td>\n",
              "      <td>0.000000</td>\n",
              "    </tr>\n",
              "    <tr>\n",
              "      <th>50%</th>\n",
              "      <td>91.600000</td>\n",
              "      <td>108.300000</td>\n",
              "      <td>664.200000</td>\n",
              "      <td>8.400000</td>\n",
              "      <td>19.300000</td>\n",
              "      <td>42.000000</td>\n",
              "      <td>4.000000</td>\n",
              "      <td>0.000000</td>\n",
              "      <td>0.710000</td>\n",
              "      <td>0.000000</td>\n",
              "      <td>...</td>\n",
              "      <td>0.000000</td>\n",
              "      <td>0.000000</td>\n",
              "      <td>0.000000</td>\n",
              "      <td>0.000000</td>\n",
              "      <td>0.000000</td>\n",
              "      <td>0.000000</td>\n",
              "      <td>0.000000</td>\n",
              "      <td>0.000000</td>\n",
              "      <td>0.000000</td>\n",
              "      <td>0.000000</td>\n",
              "    </tr>\n",
              "    <tr>\n",
              "      <th>75%</th>\n",
              "      <td>92.900000</td>\n",
              "      <td>141.200000</td>\n",
              "      <td>713.000000</td>\n",
              "      <td>11.000000</td>\n",
              "      <td>22.800000</td>\n",
              "      <td>53.000000</td>\n",
              "      <td>5.400000</td>\n",
              "      <td>0.000000</td>\n",
              "      <td>6.610000</td>\n",
              "      <td>0.000000</td>\n",
              "      <td>...</td>\n",
              "      <td>0.000000</td>\n",
              "      <td>0.000000</td>\n",
              "      <td>0.000000</td>\n",
              "      <td>0.000000</td>\n",
              "      <td>0.000000</td>\n",
              "      <td>0.000000</td>\n",
              "      <td>0.000000</td>\n",
              "      <td>0.000000</td>\n",
              "      <td>0.000000</td>\n",
              "      <td>1.000000</td>\n",
              "    </tr>\n",
              "    <tr>\n",
              "      <th>max</th>\n",
              "      <td>96.200000</td>\n",
              "      <td>291.300000</td>\n",
              "      <td>860.600000</td>\n",
              "      <td>56.100000</td>\n",
              "      <td>33.300000</td>\n",
              "      <td>100.000000</td>\n",
              "      <td>9.400000</td>\n",
              "      <td>6.400000</td>\n",
              "      <td>1090.840000</td>\n",
              "      <td>1.000000</td>\n",
              "      <td>...</td>\n",
              "      <td>1.000000</td>\n",
              "      <td>1.000000</td>\n",
              "      <td>1.000000</td>\n",
              "      <td>1.000000</td>\n",
              "      <td>1.000000</td>\n",
              "      <td>1.000000</td>\n",
              "      <td>1.000000</td>\n",
              "      <td>1.000000</td>\n",
              "      <td>1.000000</td>\n",
              "      <td>1.000000</td>\n",
              "    </tr>\n",
              "  </tbody>\n",
              "</table>\n",
              "<p>8 rows × 28 columns</p>\n",
              "</div>\n",
              "      <button class=\"colab-df-convert\" onclick=\"convertToInteractive('df-ac32fc9a-acaf-45d5-84a6-d74b06d37a11')\"\n",
              "              title=\"Convert this dataframe to an interactive table.\"\n",
              "              style=\"display:none;\">\n",
              "        \n",
              "  <svg xmlns=\"http://www.w3.org/2000/svg\" height=\"24px\"viewBox=\"0 0 24 24\"\n",
              "       width=\"24px\">\n",
              "    <path d=\"M0 0h24v24H0V0z\" fill=\"none\"/>\n",
              "    <path d=\"M18.56 5.44l.94 2.06.94-2.06 2.06-.94-2.06-.94-.94-2.06-.94 2.06-2.06.94zm-11 1L8.5 8.5l.94-2.06 2.06-.94-2.06-.94L8.5 2.5l-.94 2.06-2.06.94zm10 10l.94 2.06.94-2.06 2.06-.94-2.06-.94-.94-2.06-.94 2.06-2.06.94z\"/><path d=\"M17.41 7.96l-1.37-1.37c-.4-.4-.92-.59-1.43-.59-.52 0-1.04.2-1.43.59L10.3 9.45l-7.72 7.72c-.78.78-.78 2.05 0 2.83L4 21.41c.39.39.9.59 1.41.59.51 0 1.02-.2 1.41-.59l7.78-7.78 2.81-2.81c.8-.78.8-2.07 0-2.86zM5.41 20L4 18.59l7.72-7.72 1.47 1.35L5.41 20z\"/>\n",
              "  </svg>\n",
              "      </button>\n",
              "      \n",
              "  <style>\n",
              "    .colab-df-container {\n",
              "      display:flex;\n",
              "      flex-wrap:wrap;\n",
              "      gap: 12px;\n",
              "    }\n",
              "\n",
              "    .colab-df-convert {\n",
              "      background-color: #E8F0FE;\n",
              "      border: none;\n",
              "      border-radius: 50%;\n",
              "      cursor: pointer;\n",
              "      display: none;\n",
              "      fill: #1967D2;\n",
              "      height: 32px;\n",
              "      padding: 0 0 0 0;\n",
              "      width: 32px;\n",
              "    }\n",
              "\n",
              "    .colab-df-convert:hover {\n",
              "      background-color: #E2EBFA;\n",
              "      box-shadow: 0px 1px 2px rgba(60, 64, 67, 0.3), 0px 1px 3px 1px rgba(60, 64, 67, 0.15);\n",
              "      fill: #174EA6;\n",
              "    }\n",
              "\n",
              "    [theme=dark] .colab-df-convert {\n",
              "      background-color: #3B4455;\n",
              "      fill: #D2E3FC;\n",
              "    }\n",
              "\n",
              "    [theme=dark] .colab-df-convert:hover {\n",
              "      background-color: #434B5C;\n",
              "      box-shadow: 0px 1px 3px 1px rgba(0, 0, 0, 0.15);\n",
              "      filter: drop-shadow(0px 1px 2px rgba(0, 0, 0, 0.3));\n",
              "      fill: #FFFFFF;\n",
              "    }\n",
              "  </style>\n",
              "\n",
              "      <script>\n",
              "        const buttonEl =\n",
              "          document.querySelector('#df-ac32fc9a-acaf-45d5-84a6-d74b06d37a11 button.colab-df-convert');\n",
              "        buttonEl.style.display =\n",
              "          google.colab.kernel.accessAllowed ? 'block' : 'none';\n",
              "\n",
              "        async function convertToInteractive(key) {\n",
              "          const element = document.querySelector('#df-ac32fc9a-acaf-45d5-84a6-d74b06d37a11');\n",
              "          const dataTable =\n",
              "            await google.colab.kernel.invokeFunction('convertToInteractive',\n",
              "                                                     [key], {});\n",
              "          if (!dataTable) return;\n",
              "\n",
              "          const docLinkHtml = 'Like what you see? Visit the ' +\n",
              "            '<a target=\"_blank\" href=https://colab.research.google.com/notebooks/data_table.ipynb>data table notebook</a>'\n",
              "            + ' to learn more about interactive tables.';\n",
              "          element.innerHTML = '';\n",
              "          dataTable['output_type'] = 'display_data';\n",
              "          await google.colab.output.renderOutput(dataTable, element);\n",
              "          const docLink = document.createElement('div');\n",
              "          docLink.innerHTML = docLinkHtml;\n",
              "          element.appendChild(docLink);\n",
              "        }\n",
              "      </script>\n",
              "    </div>\n",
              "  </div>\n",
              "  "
            ]
          },
          "metadata": {},
          "execution_count": 63
        }
      ],
      "source": [
        "df.describe()"
      ]
    },
    {
      "cell_type": "code",
      "execution_count": 64,
      "metadata": {
        "id": "gn39xHlQEDua",
        "outputId": "8112b1a6-4655-499f-881c-ebaeb1359e32",
        "colab": {
          "base_uri": "https://localhost:8080/",
          "height": 0
        }
      },
      "outputs": [
        {
          "output_type": "stream",
          "name": "stdout",
          "text": [
            "<class 'pandas.core.frame.DataFrame'>\n",
            "Int64Index: 501 entries, 0 to 516\n",
            "Data columns (total 29 columns):\n",
            " #   Column         Non-Null Count  Dtype  \n",
            "---  ------         --------------  -----  \n",
            " 0   FFMC           501 non-null    float64\n",
            " 1   DMC            501 non-null    float64\n",
            " 2   DC             501 non-null    float64\n",
            " 3   ISI            501 non-null    float64\n",
            " 4   temp           501 non-null    float64\n",
            " 5   RH             501 non-null    int64  \n",
            " 6   wind           501 non-null    float64\n",
            " 7   rain           501 non-null    float64\n",
            " 8   area           501 non-null    float64\n",
            " 9   dayfri         501 non-null    int64  \n",
            " 10  daymon         501 non-null    int64  \n",
            " 11  daysat         501 non-null    int64  \n",
            " 12  daysun         501 non-null    int64  \n",
            " 13  daythu         501 non-null    int64  \n",
            " 14  daytue         501 non-null    int64  \n",
            " 15  daywed         501 non-null    int64  \n",
            " 16  monthapr       501 non-null    int64  \n",
            " 17  monthaug       501 non-null    int64  \n",
            " 18  monthdec       501 non-null    int64  \n",
            " 19  monthfeb       501 non-null    int64  \n",
            " 20  monthjan       501 non-null    int64  \n",
            " 21  monthjul       501 non-null    int64  \n",
            " 22  monthjun       501 non-null    int64  \n",
            " 23  monthmar       501 non-null    int64  \n",
            " 24  monthmay       501 non-null    int64  \n",
            " 25  monthnov       501 non-null    int64  \n",
            " 26  monthoct       501 non-null    int64  \n",
            " 27  monthsep       501 non-null    int64  \n",
            " 28  size_category  501 non-null    object \n",
            "dtypes: float64(8), int64(20), object(1)\n",
            "memory usage: 117.4+ KB\n"
          ]
        }
      ],
      "source": [
        "df.info()"
      ]
    },
    {
      "cell_type": "code",
      "execution_count": 65,
      "metadata": {
        "id": "OSP8ZN1QEDub",
        "outputId": "b39dc940-5fcd-4ca1-f377-8bad9e6f4a48",
        "colab": {
          "base_uri": "https://localhost:8080/",
          "height": 0
        }
      },
      "outputs": [
        {
          "output_type": "stream",
          "name": "stdout",
          "text": [
            "['large' 'small']\n"
          ]
        }
      ],
      "source": [
        "# Label Encoding size_category column\n",
        "\n",
        "from sklearn import preprocessing\n",
        "le=preprocessing.LabelEncoder()\n",
        "df['size_category']=le.fit_transform(df['size_category'])\n",
        "print(le.classes_)"
      ]
    },
    {
      "cell_type": "code",
      "execution_count": 66,
      "metadata": {
        "id": "AdjoSTRlEDub",
        "outputId": "c2b4aad0-8c3d-4756-dfc5-b714b91d4bbd",
        "colab": {
          "base_uri": "https://localhost:8080/",
          "height": 0
        }
      },
      "outputs": [
        {
          "output_type": "execute_result",
          "data": {
            "text/plain": [
              "dtype('int64')"
            ]
          },
          "metadata": {},
          "execution_count": 66
        }
      ],
      "source": [
        "df['size_category'].dtypes"
      ]
    },
    {
      "cell_type": "code",
      "execution_count": 67,
      "metadata": {
        "id": "s9N3zaYbEDuc",
        "outputId": "b506a6f6-fb67-4707-e637-615481bd190d",
        "colab": {
          "base_uri": "https://localhost:8080/",
          "height": 0
        }
      },
      "outputs": [
        {
          "output_type": "execute_result",
          "data": {
            "text/plain": [
              "1    364\n",
              "0    137\n",
              "Name: size_category, dtype: int64"
            ]
          },
          "metadata": {},
          "execution_count": 67
        }
      ],
      "source": [
        "df['size_category'].value_counts()"
      ]
    },
    {
      "cell_type": "code",
      "execution_count": 68,
      "metadata": {
        "id": "4tscr19dEDuc"
      },
      "outputs": [],
      "source": [
        "## Splitting into X and Y\n",
        "X=df.iloc[:,:-1]\n",
        "Y=df.iloc[:,-1]"
      ]
    },
    {
      "cell_type": "code",
      "execution_count": 69,
      "metadata": {
        "id": "a04u8IhvEDud"
      },
      "outputs": [],
      "source": [
        "# Splitting into training and testing set\n",
        "\n",
        "from sklearn.model_selection import train_test_split\n",
        "X_train,X_test,Y_train,Y_test=train_test_split(X,Y,test_size=0.3,random_state=10)\n"
      ]
    },
    {
      "cell_type": "markdown",
      "metadata": {
        "id": "BVAEc8_oEDud"
      },
      "source": [
        "### Standardizing continuous columns using Column Transformer"
      ]
    },
    {
      "cell_type": "code",
      "execution_count": 70,
      "metadata": {
        "id": "DmEgyc9eEDuf"
      },
      "outputs": [],
      "source": [
        "from sklearn.preprocessing import StandardScaler\n",
        "\n",
        "from sklearn.compose import ColumnTransformer\n",
        "\n",
        "t=[('num',StandardScaler(),['FFMC', 'DMC', 'DC', 'ISI', 'temp', 'RH', 'wind', 'rain', 'area'])]\n",
        "transformer=ColumnTransformer(transformers=t,remainder='passthrough')\n",
        "\n",
        "# fit training data\n",
        "transformer.fit(X_train)\n",
        "\n",
        "# transform training data\n",
        "X_train = transformer.transform(X_train)\n",
        "\n",
        "# transform the test data\n",
        "X_test = transformer.transform(X_test)\n"
      ]
    },
    {
      "cell_type": "code",
      "execution_count": 71,
      "metadata": {
        "id": "9DVPuvnxEDug",
        "outputId": "1cfbb634-f778-4297-cbdb-c6217daf6ec0",
        "colab": {
          "base_uri": "https://localhost:8080/",
          "height": 0
        }
      },
      "outputs": [
        {
          "output_type": "stream",
          "name": "stdout",
          "text": [
            "Shape of training data (350, 28)\n",
            "Shape of testing data (151, 28)\n"
          ]
        }
      ],
      "source": [
        "print(\"Shape of training data\",X_train.shape)\n",
        "print(\"Shape of testing data\",X_test.shape)"
      ]
    },
    {
      "cell_type": "markdown",
      "metadata": {
        "id": "u1tgM7s1EDug"
      },
      "source": [
        "### Building Neural Network base model"
      ]
    },
    {
      "cell_type": "code",
      "execution_count": 72,
      "metadata": {
        "id": "VKco8F08EDug"
      },
      "outputs": [],
      "source": [
        "model = Sequential()\n",
        "model.add(Dense(30, input_dim=28,kernel_initializer='uniform', activation='relu'))\n",
        "model.add(Dense(20, kernel_initializer='uniform', activation='relu'))\n",
        "model.add(Dense(1, kernel_initializer='uniform', activation='sigmoid'))\n",
        "\n"
      ]
    },
    {
      "cell_type": "code",
      "execution_count": 73,
      "metadata": {
        "id": "gae6ZhU4EDuh"
      },
      "outputs": [],
      "source": [
        "import pydot\n",
        "import keras\n",
        "from keras.utils.vis_utils import plot_model\n",
        "keras.utils.vis_utils.pydot = pydot"
      ]
    },
    {
      "cell_type": "code",
      "execution_count": 74,
      "metadata": {
        "id": "LVmfvHQ0EDuh",
        "outputId": "39056db5-89e8-4284-accf-1dacbdb613ab",
        "colab": {
          "base_uri": "https://localhost:8080/",
          "height": 422
        }
      },
      "outputs": [
        {
          "output_type": "execute_result",
          "data": {
            "image/png": "[encoded data removed]",
            "text/plain": [
              "<IPython.core.display.Image object>"
            ]
          },
          "metadata": {},
          "execution_count": 74
        }
      ],
      "source": [
        "# Visualizing the neural network\n",
        "plot_model(model,to_file='model_plot.png',show_shapes=True, show_layer_names=True)"
      ]
    },
    {
      "cell_type": "code",
      "execution_count": 75,
      "metadata": {
        "id": "2H39dr67EDui",
        "outputId": "2c2d3e57-b048-427b-cd8b-de32425c7728",
        "colab": {
          "base_uri": "https://localhost:8080/",
          "height": 0
        }
      },
      "outputs": [
        {
          "output_type": "stream",
          "name": "stdout",
          "text": [
            "Model: \"sequential_3\"\n",
            "_________________________________________________________________\n",
            " Layer (type)                Output Shape              Param #   \n",
            "=================================================================\n",
            " dense_9 (Dense)             (None, 30)                870       \n",
            "                                                                 \n",
            " dense_10 (Dense)            (None, 20)                620       \n",
            "                                                                 \n",
            " dense_11 (Dense)            (None, 1)                 21        \n",
            "                                                                 \n",
            "=================================================================\n",
            "Total params: 1,511\n",
            "Trainable params: 1,511\n",
            "Non-trainable params: 0\n",
            "_________________________________________________________________\n"
          ]
        }
      ],
      "source": [
        "# Summary of neural network\n",
        "model.summary()"
      ]
    },
    {
      "cell_type": "code",
      "execution_count": 76,
      "metadata": {
        "id": "33mhKHCBEDui"
      },
      "outputs": [],
      "source": [
        "# Compile model\n",
        "\n",
        "model.compile(loss='binary_crossentropy', optimizer='adam', metrics=['accuracy'])"
      ]
    },
    {
      "cell_type": "code",
      "execution_count": 77,
      "metadata": {
        "id": "zmYE--JSEDui"
      },
      "outputs": [],
      "source": [
        "# Assigning weights as it is an imbalanced dataset\n",
        "weights={0:1,1:1}"
      ]
    },
    {
      "cell_type": "code",
      "execution_count": 78,
      "metadata": {
        "id": "En7dIFwWEDuj",
        "outputId": "9b77a4e4-c206-43fd-ef57-fb87da1ec036",
        "colab": {
          "base_uri": "https://localhost:8080/",
          "height": 0
        }
      },
      "outputs": [
        {
          "output_type": "stream",
          "name": "stdout",
          "text": [
            "Epoch 1/100\n",
            "35/35 [==============================] - 0s 5ms/step - loss: 0.6879 - accuracy: 0.7114 - val_loss: 0.6754 - val_accuracy: 0.7483\n",
            "Epoch 2/100\n",
            "35/35 [==============================] - 0s 3ms/step - loss: 0.6541 - accuracy: 0.7171 - val_loss: 0.6106 - val_accuracy: 0.7483\n",
            "Epoch 3/100\n",
            "35/35 [==============================] - 0s 2ms/step - loss: 0.5923 - accuracy: 0.7171 - val_loss: 0.5388 - val_accuracy: 0.7483\n",
            "Epoch 4/100\n",
            "35/35 [==============================] - 0s 2ms/step - loss: 0.5552 - accuracy: 0.7171 - val_loss: 0.5215 - val_accuracy: 0.7483\n",
            "Epoch 5/100\n",
            "35/35 [==============================] - 0s 2ms/step - loss: 0.5416 - accuracy: 0.7171 - val_loss: 0.5120 - val_accuracy: 0.7483\n",
            "Epoch 6/100\n",
            "35/35 [==============================] - 0s 2ms/step - loss: 0.5302 - accuracy: 0.7171 - val_loss: 0.5020 - val_accuracy: 0.7483\n",
            "Epoch 7/100\n",
            "35/35 [==============================] - 0s 2ms/step - loss: 0.5165 - accuracy: 0.7171 - val_loss: 0.4907 - val_accuracy: 0.7483\n",
            "Epoch 8/100\n",
            "35/35 [==============================] - 0s 2ms/step - loss: 0.5041 - accuracy: 0.7171 - val_loss: 0.4766 - val_accuracy: 0.7483\n",
            "Epoch 9/100\n",
            "35/35 [==============================] - 0s 2ms/step - loss: 0.4887 - accuracy: 0.7171 - val_loss: 0.4661 - val_accuracy: 0.7483\n",
            "Epoch 10/100\n",
            "35/35 [==============================] - 0s 2ms/step - loss: 0.4714 - accuracy: 0.7400 - val_loss: 0.4504 - val_accuracy: 0.8079\n",
            "Epoch 11/100\n",
            "35/35 [==============================] - 0s 2ms/step - loss: 0.4508 - accuracy: 0.7743 - val_loss: 0.4338 - val_accuracy: 0.8278\n",
            "Epoch 12/100\n",
            "35/35 [==============================] - 0s 3ms/step - loss: 0.4270 - accuracy: 0.8029 - val_loss: 0.4151 - val_accuracy: 0.8411\n",
            "Epoch 13/100\n",
            "35/35 [==============================] - 0s 2ms/step - loss: 0.4024 - accuracy: 0.8371 - val_loss: 0.3918 - val_accuracy: 0.8477\n",
            "Epoch 14/100\n",
            "35/35 [==============================] - 0s 2ms/step - loss: 0.3742 - accuracy: 0.8543 - val_loss: 0.3685 - val_accuracy: 0.8742\n",
            "Epoch 15/100\n",
            "35/35 [==============================] - 0s 2ms/step - loss: 0.3439 - accuracy: 0.8514 - val_loss: 0.3516 - val_accuracy: 0.8742\n",
            "Epoch 16/100\n",
            "35/35 [==============================] - 0s 2ms/step - loss: 0.3183 - accuracy: 0.8857 - val_loss: 0.3280 - val_accuracy: 0.8742\n",
            "Epoch 17/100\n",
            "35/35 [==============================] - 0s 2ms/step - loss: 0.2929 - accuracy: 0.8800 - val_loss: 0.2992 - val_accuracy: 0.8940\n",
            "Epoch 18/100\n",
            "35/35 [==============================] - 0s 2ms/step - loss: 0.2641 - accuracy: 0.8971 - val_loss: 0.2815 - val_accuracy: 0.8874\n",
            "Epoch 19/100\n",
            "35/35 [==============================] - 0s 3ms/step - loss: 0.2411 - accuracy: 0.9057 - val_loss: 0.2565 - val_accuracy: 0.9073\n",
            "Epoch 20/100\n",
            "35/35 [==============================] - 0s 2ms/step - loss: 0.2177 - accuracy: 0.9143 - val_loss: 0.2488 - val_accuracy: 0.9139\n",
            "Epoch 21/100\n",
            "35/35 [==============================] - 0s 2ms/step - loss: 0.2029 - accuracy: 0.9229 - val_loss: 0.2360 - val_accuracy: 0.9073\n",
            "Epoch 22/100\n",
            "35/35 [==============================] - 0s 2ms/step - loss: 0.1737 - accuracy: 0.9400 - val_loss: 0.2100 - val_accuracy: 0.9272\n",
            "Epoch 23/100\n",
            "35/35 [==============================] - 0s 2ms/step - loss: 0.1538 - accuracy: 0.9571 - val_loss: 0.1931 - val_accuracy: 0.9404\n",
            "Epoch 24/100\n",
            "35/35 [==============================] - 0s 2ms/step - loss: 0.1350 - accuracy: 0.9600 - val_loss: 0.1880 - val_accuracy: 0.9536\n",
            "Epoch 25/100\n",
            "35/35 [==============================] - 0s 2ms/step - loss: 0.1283 - accuracy: 0.9600 - val_loss: 0.1731 - val_accuracy: 0.9470\n",
            "Epoch 26/100\n",
            "35/35 [==============================] - 0s 2ms/step - loss: 0.1071 - accuracy: 0.9800 - val_loss: 0.1694 - val_accuracy: 0.9470\n",
            "Epoch 27/100\n",
            "35/35 [==============================] - 0s 2ms/step - loss: 0.0981 - accuracy: 0.9771 - val_loss: 0.1653 - val_accuracy: 0.9470\n",
            "Epoch 28/100\n",
            "35/35 [==============================] - 0s 2ms/step - loss: 0.0898 - accuracy: 0.9829 - val_loss: 0.1535 - val_accuracy: 0.9603\n",
            "Epoch 29/100\n",
            "35/35 [==============================] - 0s 2ms/step - loss: 0.0783 - accuracy: 0.9857 - val_loss: 0.1572 - val_accuracy: 0.9603\n",
            "Epoch 30/100\n",
            "35/35 [==============================] - 0s 2ms/step - loss: 0.0728 - accuracy: 0.9914 - val_loss: 0.1463 - val_accuracy: 0.9603\n",
            "Epoch 31/100\n",
            "35/35 [==============================] - 0s 2ms/step - loss: 0.0647 - accuracy: 0.9886 - val_loss: 0.1479 - val_accuracy: 0.9603\n",
            "Epoch 32/100\n",
            "35/35 [==============================] - 0s 2ms/step - loss: 0.0665 - accuracy: 0.9886 - val_loss: 0.1435 - val_accuracy: 0.9603\n",
            "Epoch 33/100\n",
            "35/35 [==============================] - 0s 2ms/step - loss: 0.0571 - accuracy: 0.9914 - val_loss: 0.1408 - val_accuracy: 0.9536\n",
            "Epoch 34/100\n",
            "35/35 [==============================] - 0s 2ms/step - loss: 0.0565 - accuracy: 0.9914 - val_loss: 0.1415 - val_accuracy: 0.9669\n",
            "Epoch 35/100\n",
            "35/35 [==============================] - 0s 2ms/step - loss: 0.0553 - accuracy: 0.9829 - val_loss: 0.1406 - val_accuracy: 0.9603\n",
            "Epoch 36/100\n",
            "35/35 [==============================] - 0s 2ms/step - loss: 0.0534 - accuracy: 0.9829 - val_loss: 0.1411 - val_accuracy: 0.9669\n",
            "Epoch 37/100\n",
            "35/35 [==============================] - 0s 2ms/step - loss: 0.0507 - accuracy: 0.9914 - val_loss: 0.1417 - val_accuracy: 0.9536\n",
            "Epoch 38/100\n",
            "35/35 [==============================] - 0s 2ms/step - loss: 0.0412 - accuracy: 0.9943 - val_loss: 0.1437 - val_accuracy: 0.9669\n",
            "Epoch 39/100\n",
            "35/35 [==============================] - 0s 2ms/step - loss: 0.0405 - accuracy: 0.9943 - val_loss: 0.1399 - val_accuracy: 0.9603\n",
            "Epoch 40/100\n",
            "35/35 [==============================] - 0s 2ms/step - loss: 0.0349 - accuracy: 0.9943 - val_loss: 0.1438 - val_accuracy: 0.9669\n",
            "Epoch 41/100\n",
            "35/35 [==============================] - 0s 3ms/step - loss: 0.0337 - accuracy: 0.9943 - val_loss: 0.1462 - val_accuracy: 0.9536\n",
            "Epoch 42/100\n",
            "35/35 [==============================] - 0s 2ms/step - loss: 0.0350 - accuracy: 0.9943 - val_loss: 0.1508 - val_accuracy: 0.9536\n",
            "Epoch 43/100\n",
            "35/35 [==============================] - 0s 2ms/step - loss: 0.0320 - accuracy: 0.9971 - val_loss: 0.1435 - val_accuracy: 0.9669\n",
            "Epoch 44/100\n",
            "35/35 [==============================] - 0s 2ms/step - loss: 0.0332 - accuracy: 0.9943 - val_loss: 0.1525 - val_accuracy: 0.9603\n",
            "Epoch 45/100\n",
            "35/35 [==============================] - 0s 2ms/step - loss: 0.0295 - accuracy: 0.9943 - val_loss: 0.1500 - val_accuracy: 0.9735\n",
            "Epoch 46/100\n",
            "35/35 [==============================] - 0s 2ms/step - loss: 0.0252 - accuracy: 0.9971 - val_loss: 0.1520 - val_accuracy: 0.9603\n",
            "Epoch 47/100\n",
            "35/35 [==============================] - 0s 2ms/step - loss: 0.0262 - accuracy: 0.9914 - val_loss: 0.1530 - val_accuracy: 0.9603\n",
            "Epoch 48/100\n",
            "35/35 [==============================] - 0s 2ms/step - loss: 0.0245 - accuracy: 0.9971 - val_loss: 0.1530 - val_accuracy: 0.9603\n",
            "Epoch 49/100\n",
            "35/35 [==============================] - 0s 2ms/step - loss: 0.0230 - accuracy: 0.9971 - val_loss: 0.1585 - val_accuracy: 0.9669\n",
            "Epoch 50/100\n",
            "35/35 [==============================] - 0s 2ms/step - loss: 0.0217 - accuracy: 1.0000 - val_loss: 0.1554 - val_accuracy: 0.9669\n",
            "Epoch 51/100\n",
            "35/35 [==============================] - 0s 2ms/step - loss: 0.0228 - accuracy: 0.9943 - val_loss: 0.1556 - val_accuracy: 0.9669\n",
            "Epoch 52/100\n",
            "35/35 [==============================] - 0s 2ms/step - loss: 0.0221 - accuracy: 0.9971 - val_loss: 0.1583 - val_accuracy: 0.9603\n",
            "Epoch 53/100\n",
            "35/35 [==============================] - 0s 2ms/step - loss: 0.0203 - accuracy: 0.9971 - val_loss: 0.1609 - val_accuracy: 0.9669\n",
            "Epoch 54/100\n",
            "35/35 [==============================] - 0s 2ms/step - loss: 0.0204 - accuracy: 0.9943 - val_loss: 0.1608 - val_accuracy: 0.9603\n",
            "Epoch 55/100\n",
            "35/35 [==============================] - 0s 2ms/step - loss: 0.0181 - accuracy: 1.0000 - val_loss: 0.1603 - val_accuracy: 0.9603\n",
            "Epoch 56/100\n",
            "35/35 [==============================] - 0s 2ms/step - loss: 0.0168 - accuracy: 0.9971 - val_loss: 0.1635 - val_accuracy: 0.9669\n",
            "Epoch 57/100\n",
            "35/35 [==============================] - 0s 2ms/step - loss: 0.0188 - accuracy: 0.9914 - val_loss: 0.1574 - val_accuracy: 0.9603\n",
            "Epoch 58/100\n",
            "35/35 [==============================] - 0s 2ms/step - loss: 0.0180 - accuracy: 0.9971 - val_loss: 0.1650 - val_accuracy: 0.9603\n",
            "Epoch 59/100\n",
            "35/35 [==============================] - 0s 2ms/step - loss: 0.0162 - accuracy: 1.0000 - val_loss: 0.1680 - val_accuracy: 0.9603\n",
            "Epoch 60/100\n",
            "35/35 [==============================] - 0s 2ms/step - loss: 0.0167 - accuracy: 1.0000 - val_loss: 0.1750 - val_accuracy: 0.9603\n",
            "Epoch 61/100\n",
            "35/35 [==============================] - 0s 2ms/step - loss: 0.0156 - accuracy: 0.9971 - val_loss: 0.1685 - val_accuracy: 0.9536\n",
            "Epoch 62/100\n",
            "35/35 [==============================] - 0s 2ms/step - loss: 0.0152 - accuracy: 0.9971 - val_loss: 0.1730 - val_accuracy: 0.9603\n",
            "Epoch 63/100\n",
            "35/35 [==============================] - 0s 2ms/step - loss: 0.0135 - accuracy: 1.0000 - val_loss: 0.1674 - val_accuracy: 0.9603\n",
            "Epoch 64/100\n",
            "35/35 [==============================] - 0s 2ms/step - loss: 0.0125 - accuracy: 1.0000 - val_loss: 0.1709 - val_accuracy: 0.9669\n",
            "Epoch 65/100\n",
            "35/35 [==============================] - 0s 2ms/step - loss: 0.0113 - accuracy: 1.0000 - val_loss: 0.1773 - val_accuracy: 0.9669\n",
            "Epoch 66/100\n",
            "35/35 [==============================] - 0s 2ms/step - loss: 0.0138 - accuracy: 1.0000 - val_loss: 0.1749 - val_accuracy: 0.9536\n",
            "Epoch 67/100\n",
            "35/35 [==============================] - 0s 2ms/step - loss: 0.0102 - accuracy: 1.0000 - val_loss: 0.1763 - val_accuracy: 0.9603\n",
            "Epoch 68/100\n",
            "35/35 [==============================] - 0s 2ms/step - loss: 0.0147 - accuracy: 0.9971 - val_loss: 0.1778 - val_accuracy: 0.9669\n",
            "Epoch 69/100\n",
            "35/35 [==============================] - 0s 2ms/step - loss: 0.0123 - accuracy: 1.0000 - val_loss: 0.1834 - val_accuracy: 0.9603\n",
            "Epoch 70/100\n",
            "35/35 [==============================] - 0s 2ms/step - loss: 0.0131 - accuracy: 0.9971 - val_loss: 0.1819 - val_accuracy: 0.9669\n",
            "Epoch 71/100\n",
            "35/35 [==============================] - 0s 2ms/step - loss: 0.0093 - accuracy: 1.0000 - val_loss: 0.1812 - val_accuracy: 0.9536\n",
            "Epoch 72/100\n",
            "35/35 [==============================] - 0s 2ms/step - loss: 0.0093 - accuracy: 1.0000 - val_loss: 0.1876 - val_accuracy: 0.9603\n",
            "Epoch 73/100\n",
            "35/35 [==============================] - 0s 2ms/step - loss: 0.0107 - accuracy: 0.9971 - val_loss: 0.1874 - val_accuracy: 0.9603\n",
            "Epoch 74/100\n",
            "35/35 [==============================] - 0s 2ms/step - loss: 0.0108 - accuracy: 1.0000 - val_loss: 0.1916 - val_accuracy: 0.9603\n",
            "Epoch 75/100\n",
            "35/35 [==============================] - 0s 2ms/step - loss: 0.0120 - accuracy: 0.9971 - val_loss: 0.1868 - val_accuracy: 0.9669\n",
            "Epoch 76/100\n",
            "35/35 [==============================] - 0s 2ms/step - loss: 0.0098 - accuracy: 1.0000 - val_loss: 0.1914 - val_accuracy: 0.9603\n",
            "Epoch 77/100\n",
            "35/35 [==============================] - 0s 2ms/step - loss: 0.0139 - accuracy: 0.9971 - val_loss: 0.1854 - val_accuracy: 0.9603\n",
            "Epoch 78/100\n",
            "35/35 [==============================] - 0s 2ms/step - loss: 0.0098 - accuracy: 1.0000 - val_loss: 0.1943 - val_accuracy: 0.9669\n",
            "Epoch 79/100\n",
            "35/35 [==============================] - 0s 2ms/step - loss: 0.0081 - accuracy: 1.0000 - val_loss: 0.1932 - val_accuracy: 0.9603\n",
            "Epoch 80/100\n",
            "35/35 [==============================] - 0s 2ms/step - loss: 0.0077 - accuracy: 1.0000 - val_loss: 0.1951 - val_accuracy: 0.9603\n",
            "Epoch 81/100\n",
            "35/35 [==============================] - 0s 2ms/step - loss: 0.0063 - accuracy: 1.0000 - val_loss: 0.1949 - val_accuracy: 0.9603\n",
            "Epoch 82/100\n",
            "35/35 [==============================] - 0s 2ms/step - loss: 0.0060 - accuracy: 1.0000 - val_loss: 0.1970 - val_accuracy: 0.9603\n",
            "Epoch 83/100\n",
            "35/35 [==============================] - 0s 2ms/step - loss: 0.0087 - accuracy: 0.9971 - val_loss: 0.1986 - val_accuracy: 0.9669\n",
            "Epoch 84/100\n",
            "35/35 [==============================] - 0s 2ms/step - loss: 0.0089 - accuracy: 1.0000 - val_loss: 0.1960 - val_accuracy: 0.9536\n",
            "Epoch 85/100\n",
            "35/35 [==============================] - 0s 2ms/step - loss: 0.0065 - accuracy: 1.0000 - val_loss: 0.1991 - val_accuracy: 0.9536\n",
            "Epoch 86/100\n",
            "35/35 [==============================] - 0s 2ms/step - loss: 0.0060 - accuracy: 1.0000 - val_loss: 0.2013 - val_accuracy: 0.9536\n",
            "Epoch 87/100\n",
            "35/35 [==============================] - 0s 2ms/step - loss: 0.0061 - accuracy: 1.0000 - val_loss: 0.2040 - val_accuracy: 0.9536\n",
            "Epoch 88/100\n",
            "35/35 [==============================] - 0s 2ms/step - loss: 0.0059 - accuracy: 1.0000 - val_loss: 0.1984 - val_accuracy: 0.9536\n",
            "Epoch 89/100\n",
            "35/35 [==============================] - 0s 2ms/step - loss: 0.0055 - accuracy: 1.0000 - val_loss: 0.1963 - val_accuracy: 0.9603\n",
            "Epoch 90/100\n",
            "35/35 [==============================] - 0s 3ms/step - loss: 0.0053 - accuracy: 1.0000 - val_loss: 0.1986 - val_accuracy: 0.9603\n",
            "Epoch 91/100\n",
            "35/35 [==============================] - 0s 2ms/step - loss: 0.0049 - accuracy: 1.0000 - val_loss: 0.2008 - val_accuracy: 0.9536\n",
            "Epoch 92/100\n",
            "35/35 [==============================] - 0s 2ms/step - loss: 0.0049 - accuracy: 1.0000 - val_loss: 0.2038 - val_accuracy: 0.9603\n",
            "Epoch 93/100\n",
            "35/35 [==============================] - 0s 2ms/step - loss: 0.0056 - accuracy: 1.0000 - val_loss: 0.2045 - val_accuracy: 0.9536\n",
            "Epoch 94/100\n",
            "35/35 [==============================] - 0s 2ms/step - loss: 0.0048 - accuracy: 1.0000 - val_loss: 0.2025 - val_accuracy: 0.9603\n",
            "Epoch 95/100\n",
            "35/35 [==============================] - 0s 2ms/step - loss: 0.0050 - accuracy: 1.0000 - val_loss: 0.2039 - val_accuracy: 0.9603\n",
            "Epoch 96/100\n",
            "35/35 [==============================] - 0s 2ms/step - loss: 0.0047 - accuracy: 1.0000 - val_loss: 0.2021 - val_accuracy: 0.9536\n",
            "Epoch 97/100\n",
            "35/35 [==============================] - 0s 2ms/step - loss: 0.0046 - accuracy: 1.0000 - val_loss: 0.2051 - val_accuracy: 0.9669\n",
            "Epoch 98/100\n",
            "35/35 [==============================] - 0s 2ms/step - loss: 0.0042 - accuracy: 1.0000 - val_loss: 0.2108 - val_accuracy: 0.9603\n",
            "Epoch 99/100\n",
            "35/35 [==============================] - 0s 2ms/step - loss: 0.0034 - accuracy: 1.0000 - val_loss: 0.2081 - val_accuracy: 0.9536\n",
            "Epoch 100/100\n",
            "35/35 [==============================] - 0s 2ms/step - loss: 0.0059 - accuracy: 1.0000 - val_loss: 0.2064 - val_accuracy: 0.9536\n"
          ]
        }
      ],
      "source": [
        "# Training and evaluating the model\n",
        "history=model.fit(X_train, Y_train, validation_data=(X_test,Y_test),class_weight=weights, epochs =100, batch_size=10)"
      ]
    },
    {
      "cell_type": "code",
      "execution_count": 79,
      "metadata": {
        "id": "nnObFgZhEDuj",
        "outputId": "1cea9198-9d31-4f9f-b3c6-1a16f554e329",
        "colab": {
          "base_uri": "https://localhost:8080/",
          "height": 0
        }
      },
      "outputs": [
        {
          "output_type": "stream",
          "name": "stdout",
          "text": [
            "Training set accuracy: 1.000, Testing set accuracy: 0.954\n"
          ]
        }
      ],
      "source": [
        "# evaluate the model\n",
        "_,train_accuracy = model.evaluate(X_train,Y_train, verbose=0)\n",
        "_,test_accuracy = model.evaluate(X_test, Y_test, verbose=0)\n",
        "\n",
        "print('Training set accuracy: %.3f, Testing set accuracy: %.3f' % (train_accuracy, test_accuracy))"
      ]
    },
    {
      "cell_type": "code",
      "execution_count": 80,
      "metadata": {
        "id": "zpyh0KtKEDuj",
        "outputId": "2f3c10bb-5316-41ed-8f07-5ecdcc0bb87d",
        "colab": {
          "base_uri": "https://localhost:8080/",
          "height": 295
        }
      },
      "outputs": [
        {
          "output_type": "display_data",
          "data": {
            "text/plain": [
              "<Figure size 432x288 with 1 Axes>"
            ],
            "image/png": "[encoded data removed]"
          },
          "metadata": {
            "needs_background": "light"
          }
        }
      ],
      "source": [
        "# plot loss during training\n",
        "plt.title('Model Loss')\n",
        "plt.plot(history.history['loss'], label='train')\n",
        "plt.plot(history.history['val_loss'], label='test')\n",
        "plt.ylabel('loss')\n",
        "plt.xlabel('epoch')\n",
        "\n",
        "plt.legend()\n",
        "plt.show()"
      ]
    },
    {
      "cell_type": "code",
      "execution_count": 81,
      "metadata": {
        "id": "jgiQ9ZJkEDuk",
        "outputId": "49d08813-097e-4469-c9cc-8bd1a75d447d",
        "colab": {
          "base_uri": "https://localhost:8080/",
          "height": 350
        }
      },
      "outputs": [
        {
          "output_type": "display_data",
          "data": {
            "text/plain": [
              "<Figure size 576x360 with 1 Axes>"
            ],
            "image/png": "[encoded data removed]"
          },
          "metadata": {
            "needs_background": "light"
          }
        }
      ],
      "source": [
        "## Plotting the learning curves\n",
        "\n",
        "pd.DataFrame(history.history).plot(figsize=(8,5))\n",
        "plt.grid(True)\n",
        "plt.gca().set_ylim(0,1)\n",
        "plt.title('model loss')\n",
        "plt.ylabel('loss')\n",
        "plt.xlabel('epoch')\n",
        "\n",
        "plt.show()"
      ]
    },
    {
      "cell_type": "code",
      "execution_count": 82,
      "metadata": {
        "id": "NdNbasqTEDuk",
        "outputId": "de887f94-8b3c-4615-b81a-26e2389c06c9",
        "colab": {
          "base_uri": "https://localhost:8080/",
          "height": 0
        }
      },
      "outputs": [
        {
          "output_type": "stream",
          "name": "stdout",
          "text": [
            "5/5 [==============================] - 0s 2ms/step\n"
          ]
        }
      ],
      "source": [
        "# Making predictions\n",
        "\n",
        "y_pred=model.predict(X_test);"
      ]
    },
    {
      "cell_type": "code",
      "execution_count": 83,
      "metadata": {
        "id": "Jq7cPL6oEDuk",
        "outputId": "e74af970-e26f-4e3a-eb89-84f1d1fce50a",
        "colab": {
          "base_uri": "https://localhost:8080/",
          "height": 0
        }
      },
      "outputs": [
        {
          "output_type": "stream",
          "name": "stdout",
          "text": [
            "              precision    recall  f1-score   support\n",
            "\n",
            "0-large fire       0.90      0.92      0.91        38\n",
            "1-small fire       0.97      0.96      0.97       113\n",
            "\n",
            "    accuracy                           0.95       151\n",
            "   macro avg       0.94      0.94      0.94       151\n",
            "weighted avg       0.95      0.95      0.95       151\n",
            "\n"
          ]
        }
      ],
      "source": [
        "# Classification report\n",
        "\n",
        "from sklearn.metrics import classification_report\n",
        "y_pred = np.where(y_pred > 0.5, 1, 0)\n",
        "\n",
        "names=['0-large fire','1-small fire']\n",
        "print(classification_report(Y_test, y_pred,target_names=names))"
      ]
    },
    {
      "cell_type": "markdown",
      "metadata": {
        "id": "dYRcfWmAEDul"
      },
      "source": [
        "## Hyperparameter Tuning using RandomizedSearchCV"
      ]
    },
    {
      "cell_type": "code",
      "execution_count": 84,
      "metadata": {
        "id": "Vi58A_zgEDul"
      },
      "outputs": [],
      "source": [
        "from sklearn.model_selection import RandomizedSearchCV, KFold"
      ]
    },
    {
      "cell_type": "code",
      "execution_count": 85,
      "metadata": {
        "id": "pIHSRNFeEDul"
      },
      "outputs": [],
      "source": [
        "from keras.optimizers import Adam"
      ]
    },
    {
      "cell_type": "code",
      "execution_count": 86,
      "metadata": {
        "id": "wOHvqCcmEDul"
      },
      "outputs": [],
      "source": [
        "from keras.wrappers.scikit_learn import KerasClassifier\n"
      ]
    },
    {
      "cell_type": "code",
      "execution_count": 87,
      "metadata": {
        "id": "llbgVK9cEDul"
      },
      "outputs": [],
      "source": [
        "# Building a keras classification model\n",
        "\n",
        "def create_keras_model(learning_rate,activation_function,init,neuron1,neuron2):\n",
        "    \n",
        "    model = Sequential()\n",
        "    \n",
        "    model.add(Dense(neuron1,input_dim = 28,kernel_initializer = init,activation = activation_function))\n",
        " \n",
        "    model.add(Dense(neuron2,input_dim = neuron1,kernel_initializer = init,activation = activation_function))\n",
        "\n",
        "    model.add(Dense(1,activation = 'sigmoid'))\n",
        "    \n",
        "    adam = Adam(lr = learning_rate)\n",
        "    \n",
        "    model.compile(loss = 'binary_crossentropy',optimizer = adam,metrics = ['accuracy'])\n",
        "    return model\n",
        "\n"
      ]
    },
    {
      "cell_type": "code",
      "execution_count": 88,
      "metadata": {
        "id": "L1SfURRQEDum",
        "colab": {
          "base_uri": "https://localhost:8080/",
          "height": 0
        },
        "outputId": "ef25e350-dfa4-4cf9-e0fe-13807b8471bc"
      },
      "outputs": [
        {
          "output_type": "stream",
          "name": "stderr",
          "text": [
            "<ipython-input-88-aaadede9eb1e>:3: DeprecationWarning: KerasClassifier is deprecated, use Sci-Keras (https://github.com/adriangb/scikeras) instead. See https://www.adriangb.com/scikeras/stable/migration.html for help migrating.\n",
            "  keras_clf = KerasClassifier(build_fn = create_keras_model,verbose = 0)\n"
          ]
        }
      ],
      "source": [
        "# Wrapping the keras model in a object\n",
        "\n",
        "keras_clf = KerasClassifier(build_fn = create_keras_model,verbose = 0)"
      ]
    },
    {
      "cell_type": "code",
      "execution_count": 89,
      "metadata": {
        "id": "93Q5NuXkEDum",
        "outputId": "c19b6994-ea50-40bf-86f3-f10ff29ca01c",
        "colab": {
          "base_uri": "https://localhost:8080/",
          "height": 0
        }
      },
      "outputs": [
        {
          "output_type": "stream",
          "name": "stdout",
          "text": [
            "Fitting 5 folds for each of 10 candidates, totalling 50 fits\n"
          ]
        },
        {
          "output_type": "stream",
          "name": "stderr",
          "text": [
            "/usr/local/lib/python3.8/dist-packages/keras/optimizers/optimizer_v2/adam.py:110: UserWarning: The `lr` argument is deprecated, use `learning_rate` instead.\n",
            "  super(Adam, self).__init__(name, **kwargs)\n"
          ]
        }
      ],
      "source": [
        "# Define the search parameters\n",
        "\n",
        "batch_size = [10,20,30,40,50]\n",
        "epochs = [25,50,100]\n",
        "learning_rate = [0.001,0.01,0.1]\n",
        "\n",
        "activation_function = ['softmax','relu','tanh','linear']\n",
        "init = ['uniform','normal','zero']\n",
        "neuron1 = [10,20,30]\n",
        "neuron2 = [2,4,6,8]\n",
        "\n",
        "\n",
        "# Create a dictionary of the parameters\n",
        "\n",
        "param_grids = dict(batch_size = batch_size,epochs = epochs,learning_rate = learning_rate,\n",
        "                   activation_function = activation_function,init = init,neuron1 = neuron1,neuron2 = neuron2)\n",
        "\n",
        "\n",
        "# Build and fit the RandomizedSearchCV\n",
        "\n",
        "random_search = RandomizedSearchCV(estimator = keras_clf,param_distributions = param_grids,cv = 5,n_jobs=-1,verbose = 10,\n",
        "                                   random_state=40)\n",
        "random_result = random_search.fit(X_train,Y_train)\n",
        "\n",
        "\n"
      ]
    },
    {
      "cell_type": "code",
      "execution_count": 90,
      "metadata": {
        "id": "FdAqkND3EDun",
        "outputId": "40fcc2eb-7b2b-457f-e3f6-d573be9af061",
        "colab": {
          "base_uri": "https://localhost:8080/",
          "height": 0
        }
      },
      "outputs": [
        {
          "output_type": "stream",
          "name": "stdout",
          "text": [
            "Best score: 0.9599999785423279\n",
            "Best parameters: {'neuron2': 8, 'neuron1': 20, 'learning_rate': 0.01, 'init': 'uniform', 'epochs': 50, 'batch_size': 40, 'activation_function': 'linear'}\n"
          ]
        }
      ],
      "source": [
        "# Summarize the results\n",
        "print('Best score:',random_result.best_score_)\n",
        "print('Best parameters:',random_result.best_params_)\n"
      ]
    },
    {
      "cell_type": "code",
      "execution_count": 91,
      "metadata": {
        "id": "elS8SOAYEDun",
        "outputId": "434cd224-c866-46d9-92b6-13b88f423a2f",
        "colab": {
          "base_uri": "https://localhost:8080/",
          "height": 0
        }
      },
      "outputs": [
        {
          "output_type": "stream",
          "name": "stdout",
          "text": [
            "Epoch 1/50\n",
            "9/9 [==============================] - 0s 17ms/step - loss: 0.6378 - accuracy: 0.6771 - val_loss: 0.5435 - val_accuracy: 0.7483\n",
            "Epoch 2/50\n",
            "9/9 [==============================] - 0s 3ms/step - loss: 0.5525 - accuracy: 0.7429 - val_loss: 0.5110 - val_accuracy: 0.7682\n",
            "Epoch 3/50\n",
            "9/9 [==============================] - 0s 3ms/step - loss: 0.5152 - accuracy: 0.7657 - val_loss: 0.4772 - val_accuracy: 0.8013\n",
            "Epoch 4/50\n",
            "9/9 [==============================] - 0s 3ms/step - loss: 0.4653 - accuracy: 0.7800 - val_loss: 0.4325 - val_accuracy: 0.8278\n",
            "Epoch 5/50\n",
            "9/9 [==============================] - 0s 3ms/step - loss: 0.4044 - accuracy: 0.8429 - val_loss: 0.3739 - val_accuracy: 0.8675\n",
            "Epoch 6/50\n",
            "9/9 [==============================] - 0s 3ms/step - loss: 0.3519 - accuracy: 0.8600 - val_loss: 0.3374 - val_accuracy: 0.8675\n",
            "Epoch 7/50\n",
            "9/9 [==============================] - 0s 5ms/step - loss: 0.3048 - accuracy: 0.8771 - val_loss: 0.2777 - val_accuracy: 0.8940\n",
            "Epoch 8/50\n",
            "9/9 [==============================] - 0s 4ms/step - loss: 0.2422 - accuracy: 0.8914 - val_loss: 0.2790 - val_accuracy: 0.9073\n",
            "Epoch 9/50\n",
            "9/9 [==============================] - 0s 3ms/step - loss: 0.2120 - accuracy: 0.9171 - val_loss: 0.2636 - val_accuracy: 0.9272\n",
            "Epoch 10/50\n",
            "9/9 [==============================] - 0s 6ms/step - loss: 0.1624 - accuracy: 0.9486 - val_loss: 0.2892 - val_accuracy: 0.9205\n",
            "Epoch 11/50\n",
            "9/9 [==============================] - 0s 3ms/step - loss: 0.1638 - accuracy: 0.9429 - val_loss: 0.2569 - val_accuracy: 0.9205\n",
            "Epoch 12/50\n",
            "9/9 [==============================] - 0s 3ms/step - loss: 0.1431 - accuracy: 0.9429 - val_loss: 0.2948 - val_accuracy: 0.9338\n",
            "Epoch 13/50\n",
            "9/9 [==============================] - 0s 4ms/step - loss: 0.1118 - accuracy: 0.9600 - val_loss: 0.2335 - val_accuracy: 0.9536\n",
            "Epoch 14/50\n",
            "9/9 [==============================] - 0s 4ms/step - loss: 0.1104 - accuracy: 0.9429 - val_loss: 0.2531 - val_accuracy: 0.9669\n",
            "Epoch 15/50\n",
            "9/9 [==============================] - 0s 6ms/step - loss: 0.0938 - accuracy: 0.9657 - val_loss: 0.2675 - val_accuracy: 0.9536\n",
            "Epoch 16/50\n",
            "9/9 [==============================] - 0s 5ms/step - loss: 0.1016 - accuracy: 0.9571 - val_loss: 0.2648 - val_accuracy: 0.9470\n",
            "Epoch 17/50\n",
            "9/9 [==============================] - 0s 3ms/step - loss: 0.0938 - accuracy: 0.9600 - val_loss: 0.2695 - val_accuracy: 0.9404\n",
            "Epoch 18/50\n",
            "9/9 [==============================] - 0s 4ms/step - loss: 0.1305 - accuracy: 0.9600 - val_loss: 0.2571 - val_accuracy: 0.9603\n",
            "Epoch 19/50\n",
            "9/9 [==============================] - 0s 4ms/step - loss: 0.1498 - accuracy: 0.9457 - val_loss: 0.3103 - val_accuracy: 0.9470\n",
            "Epoch 20/50\n",
            "9/9 [==============================] - 0s 4ms/step - loss: 0.1046 - accuracy: 0.9571 - val_loss: 0.2246 - val_accuracy: 0.9603\n",
            "Epoch 21/50\n",
            "9/9 [==============================] - 0s 3ms/step - loss: 0.1084 - accuracy: 0.9686 - val_loss: 0.2791 - val_accuracy: 0.9205\n",
            "Epoch 22/50\n",
            "9/9 [==============================] - 0s 3ms/step - loss: 0.1112 - accuracy: 0.9571 - val_loss: 0.2374 - val_accuracy: 0.9603\n",
            "Epoch 23/50\n",
            "9/9 [==============================] - 0s 4ms/step - loss: 0.1507 - accuracy: 0.9371 - val_loss: 0.2728 - val_accuracy: 0.9404\n",
            "Epoch 24/50\n",
            "9/9 [==============================] - 0s 3ms/step - loss: 0.1189 - accuracy: 0.9629 - val_loss: 0.2262 - val_accuracy: 0.9470\n",
            "Epoch 25/50\n",
            "9/9 [==============================] - 0s 3ms/step - loss: 0.0911 - accuracy: 0.9714 - val_loss: 0.2234 - val_accuracy: 0.9470\n",
            "Epoch 26/50\n",
            "9/9 [==============================] - 0s 4ms/step - loss: 0.0674 - accuracy: 0.9657 - val_loss: 0.1969 - val_accuracy: 0.9536\n",
            "Epoch 27/50\n",
            "9/9 [==============================] - 0s 5ms/step - loss: 0.0461 - accuracy: 0.9857 - val_loss: 0.2012 - val_accuracy: 0.9536\n",
            "Epoch 28/50\n",
            "9/9 [==============================] - 0s 4ms/step - loss: 0.0483 - accuracy: 0.9886 - val_loss: 0.1973 - val_accuracy: 0.9735\n",
            "Epoch 29/50\n",
            "9/9 [==============================] - 0s 3ms/step - loss: 0.0392 - accuracy: 0.9886 - val_loss: 0.2056 - val_accuracy: 0.9669\n",
            "Epoch 30/50\n",
            "9/9 [==============================] - 0s 3ms/step - loss: 0.0341 - accuracy: 0.9914 - val_loss: 0.2101 - val_accuracy: 0.9735\n",
            "Epoch 31/50\n",
            "9/9 [==============================] - 0s 3ms/step - loss: 0.0310 - accuracy: 0.9914 - val_loss: 0.2228 - val_accuracy: 0.9669\n",
            "Epoch 32/50\n",
            "9/9 [==============================] - 0s 3ms/step - loss: 0.0391 - accuracy: 0.9857 - val_loss: 0.2334 - val_accuracy: 0.9603\n",
            "Epoch 33/50\n",
            "9/9 [==============================] - 0s 3ms/step - loss: 0.0370 - accuracy: 0.9857 - val_loss: 0.2321 - val_accuracy: 0.9603\n",
            "Epoch 34/50\n",
            "9/9 [==============================] - 0s 3ms/step - loss: 0.0338 - accuracy: 0.9914 - val_loss: 0.2492 - val_accuracy: 0.9669\n",
            "Epoch 35/50\n",
            "9/9 [==============================] - 0s 3ms/step - loss: 0.0424 - accuracy: 0.9771 - val_loss: 0.2943 - val_accuracy: 0.9603\n",
            "Epoch 36/50\n",
            "9/9 [==============================] - 0s 5ms/step - loss: 0.0585 - accuracy: 0.9771 - val_loss: 0.2768 - val_accuracy: 0.9603\n",
            "Epoch 37/50\n",
            "9/9 [==============================] - 0s 3ms/step - loss: 0.0665 - accuracy: 0.9771 - val_loss: 0.4180 - val_accuracy: 0.9272\n",
            "Epoch 38/50\n",
            "9/9 [==============================] - 0s 3ms/step - loss: 0.1262 - accuracy: 0.9657 - val_loss: 0.2696 - val_accuracy: 0.9536\n",
            "Epoch 39/50\n",
            "9/9 [==============================] - 0s 3ms/step - loss: 0.0900 - accuracy: 0.9657 - val_loss: 0.2628 - val_accuracy: 0.9536\n",
            "Epoch 40/50\n",
            "9/9 [==============================] - 0s 4ms/step - loss: 0.0587 - accuracy: 0.9771 - val_loss: 0.2238 - val_accuracy: 0.9735\n",
            "Epoch 41/50\n",
            "9/9 [==============================] - 0s 5ms/step - loss: 0.0728 - accuracy: 0.9771 - val_loss: 0.2401 - val_accuracy: 0.9470\n",
            "Epoch 42/50\n",
            "9/9 [==============================] - 0s 4ms/step - loss: 0.0374 - accuracy: 0.9857 - val_loss: 0.2254 - val_accuracy: 0.9470\n",
            "Epoch 43/50\n",
            "9/9 [==============================] - 0s 6ms/step - loss: 0.0460 - accuracy: 0.9829 - val_loss: 0.2248 - val_accuracy: 0.9669\n",
            "Epoch 44/50\n",
            "9/9 [==============================] - 0s 3ms/step - loss: 0.0547 - accuracy: 0.9829 - val_loss: 0.2357 - val_accuracy: 0.9669\n",
            "Epoch 45/50\n",
            "9/9 [==============================] - 0s 3ms/step - loss: 0.0737 - accuracy: 0.9686 - val_loss: 0.2359 - val_accuracy: 0.9536\n",
            "Epoch 46/50\n",
            "9/9 [==============================] - 0s 3ms/step - loss: 0.0567 - accuracy: 0.9686 - val_loss: 0.2566 - val_accuracy: 0.9536\n",
            "Epoch 47/50\n",
            "9/9 [==============================] - 0s 3ms/step - loss: 0.0537 - accuracy: 0.9771 - val_loss: 0.2087 - val_accuracy: 0.9603\n",
            "Epoch 48/50\n",
            "9/9 [==============================] - 0s 3ms/step - loss: 0.0303 - accuracy: 0.9886 - val_loss: 0.2155 - val_accuracy: 0.9669\n",
            "Epoch 49/50\n",
            "9/9 [==============================] - 0s 3ms/step - loss: 0.0281 - accuracy: 0.9914 - val_loss: 0.2107 - val_accuracy: 0.9669\n",
            "Epoch 50/50\n",
            "9/9 [==============================] - 0s 4ms/step - loss: 0.0291 - accuracy: 0.9829 - val_loss: 0.2195 - val_accuracy: 0.9603\n"
          ]
        }
      ],
      "source": [
        "## storing the best parameters in a variable\n",
        "## fitting the model with best parameters\n",
        "\n",
        "d1= random_result.best_params_\n",
        "\n",
        "keras_tuned=create_keras_model(learning_rate=d1['learning_rate'],activation_function=d1['activation_function'],init=d1['init'],\n",
        "                                                                                       neuron1=d1['neuron1'],neuron2=d1['neuron2'])\n",
        "\n",
        "# Training and evaluating the model\n",
        "history2=keras_tuned.fit(X_train, Y_train, validation_data=(X_test,Y_test),class_weight=weights,\n",
        "                         epochs =d1['epochs'], batch_size=d1['batch_size'])"
      ]
    },
    {
      "cell_type": "code",
      "execution_count": 92,
      "metadata": {
        "id": "jFI3-gd9EDun",
        "outputId": "c862b2b4-8a88-49cb-90f6-8b47a38ce3a6",
        "colab": {
          "base_uri": "https://localhost:8080/",
          "height": 0
        }
      },
      "outputs": [
        {
          "output_type": "stream",
          "name": "stdout",
          "text": [
            "Training set accuracy: 0.997, Testing set accuracy: 0.960\n"
          ]
        }
      ],
      "source": [
        "# evaluate the model\n",
        "_,train_accuracy_tuned = keras_tuned.evaluate(X_train,Y_train, verbose=0)\n",
        "_,test_accuracy_tuned = keras_tuned.evaluate(X_test, Y_test, verbose=0)\n",
        "\n",
        "print('Training set accuracy: %.3f, Testing set accuracy: %.3f' % (train_accuracy_tuned, test_accuracy_tuned))"
      ]
    },
    {
      "cell_type": "code",
      "execution_count": 93,
      "metadata": {
        "id": "vNuUClVtEDun",
        "outputId": "2acf067e-0bb9-43c6-95e9-d4e5a22f2a68",
        "colab": {
          "base_uri": "https://localhost:8080/",
          "height": 0
        }
      },
      "outputs": [
        {
          "output_type": "stream",
          "name": "stdout",
          "text": [
            "5/5 [==============================] - 0s 2ms/step\n"
          ]
        }
      ],
      "source": [
        "# Making predictions\n",
        "\n",
        "y_pred_tuned=keras_tuned.predict(X_test);"
      ]
    },
    {
      "cell_type": "markdown",
      "metadata": {
        "id": "HZDdG7S5EDv8"
      },
      "source": [
        "### Classification report of tuned model"
      ]
    },
    {
      "cell_type": "code",
      "execution_count": 94,
      "metadata": {
        "id": "KhJI9uxMEDv8",
        "outputId": "47a74d3f-e1cc-4a8f-c171-db12dc3daae0",
        "colab": {
          "base_uri": "https://localhost:8080/",
          "height": 0
        }
      },
      "outputs": [
        {
          "output_type": "stream",
          "name": "stdout",
          "text": [
            "              precision    recall  f1-score   support\n",
            "\n",
            "0-large fire       0.90      0.95      0.92        38\n",
            "1-small fire       0.98      0.96      0.97       113\n",
            "\n",
            "    accuracy                           0.96       151\n",
            "   macro avg       0.94      0.96      0.95       151\n",
            "weighted avg       0.96      0.96      0.96       151\n",
            "\n"
          ]
        }
      ],
      "source": [
        "from sklearn.metrics import classification_report\n",
        "\n",
        "names=['0-large fire','1-small fire']\n",
        "y_pred_tuned = np.where(y_pred_tuned > 0.5, 1, 0)\n",
        "print(classification_report(Y_test, y_pred_tuned,target_names=names))"
      ]
    },
    {
      "cell_type": "markdown",
      "metadata": {
        "id": "RyBsVHW-EDv9"
      },
      "source": [
        "### Comparing base model and tuned model"
      ]
    },
    {
      "cell_type": "code",
      "execution_count": 95,
      "metadata": {
        "id": "meiH3xVnEDv9",
        "outputId": "26e8c9f4-95f8-4f77-a39b-a8194b8af2f3",
        "colab": {
          "base_uri": "https://localhost:8080/",
          "height": 112
        }
      },
      "outputs": [
        {
          "output_type": "execute_result",
          "data": {
            "text/plain": [
              "        models  train accuracy  test accuracy\n",
              "0   base model        1.000000       0.953642\n",
              "1  tuned model        0.997143       0.960265"
            ],
            "text/html": [
              "\n",
              "  <div id=\"df-8c29292b-e03f-48db-b921-f3b1e10254bd\">\n",
              "    <div class=\"colab-df-container\">\n",
              "      <div>\n",
              "<style scoped>\n",
              "    .dataframe tbody tr th:only-of-type {\n",
              "        vertical-align: middle;\n",
              "    }\n",
              "\n",
              "    .dataframe tbody tr th {\n",
              "        vertical-align: top;\n",
              "    }\n",
              "\n",
              "    .dataframe thead th {\n",
              "        text-align: right;\n",
              "    }\n",
              "</style>\n",
              "<table border=\"1\" class=\"dataframe\">\n",
              "  <thead>\n",
              "    <tr style=\"text-align: right;\">\n",
              "      <th></th>\n",
              "      <th>models</th>\n",
              "      <th>train accuracy</th>\n",
              "      <th>test accuracy</th>\n",
              "    </tr>\n",
              "  </thead>\n",
              "  <tbody>\n",
              "    <tr>\n",
              "      <th>0</th>\n",
              "      <td>base model</td>\n",
              "      <td>1.000000</td>\n",
              "      <td>0.953642</td>\n",
              "    </tr>\n",
              "    <tr>\n",
              "      <th>1</th>\n",
              "      <td>tuned model</td>\n",
              "      <td>0.997143</td>\n",
              "      <td>0.960265</td>\n",
              "    </tr>\n",
              "  </tbody>\n",
              "</table>\n",
              "</div>\n",
              "      <button class=\"colab-df-convert\" onclick=\"convertToInteractive('df-8c29292b-e03f-48db-b921-f3b1e10254bd')\"\n",
              "              title=\"Convert this dataframe to an interactive table.\"\n",
              "              style=\"display:none;\">\n",
              "        \n",
              "  <svg xmlns=\"http://www.w3.org/2000/svg\" height=\"24px\"viewBox=\"0 0 24 24\"\n",
              "       width=\"24px\">\n",
              "    <path d=\"M0 0h24v24H0V0z\" fill=\"none\"/>\n",
              "    <path d=\"M18.56 5.44l.94 2.06.94-2.06 2.06-.94-2.06-.94-.94-2.06-.94 2.06-2.06.94zm-11 1L8.5 8.5l.94-2.06 2.06-.94-2.06-.94L8.5 2.5l-.94 2.06-2.06.94zm10 10l.94 2.06.94-2.06 2.06-.94-2.06-.94-.94-2.06-.94 2.06-2.06.94z\"/><path d=\"M17.41 7.96l-1.37-1.37c-.4-.4-.92-.59-1.43-.59-.52 0-1.04.2-1.43.59L10.3 9.45l-7.72 7.72c-.78.78-.78 2.05 0 2.83L4 21.41c.39.39.9.59 1.41.59.51 0 1.02-.2 1.41-.59l7.78-7.78 2.81-2.81c.8-.78.8-2.07 0-2.86zM5.41 20L4 18.59l7.72-7.72 1.47 1.35L5.41 20z\"/>\n",
              "  </svg>\n",
              "      </button>\n",
              "      \n",
              "  <style>\n",
              "    .colab-df-container {\n",
              "      display:flex;\n",
              "      flex-wrap:wrap;\n",
              "      gap: 12px;\n",
              "    }\n",
              "\n",
              "    .colab-df-convert {\n",
              "      background-color: #E8F0FE;\n",
              "      border: none;\n",
              "      border-radius: 50%;\n",
              "      cursor: pointer;\n",
              "      display: none;\n",
              "      fill: #1967D2;\n",
              "      height: 32px;\n",
              "      padding: 0 0 0 0;\n",
              "      width: 32px;\n",
              "    }\n",
              "\n",
              "    .colab-df-convert:hover {\n",
              "      background-color: #E2EBFA;\n",
              "      box-shadow: 0px 1px 2px rgba(60, 64, 67, 0.3), 0px 1px 3px 1px rgba(60, 64, 67, 0.15);\n",
              "      fill: #174EA6;\n",
              "    }\n",
              "\n",
              "    [theme=dark] .colab-df-convert {\n",
              "      background-color: #3B4455;\n",
              "      fill: #D2E3FC;\n",
              "    }\n",
              "\n",
              "    [theme=dark] .colab-df-convert:hover {\n",
              "      background-color: #434B5C;\n",
              "      box-shadow: 0px 1px 3px 1px rgba(0, 0, 0, 0.15);\n",
              "      filter: drop-shadow(0px 1px 2px rgba(0, 0, 0, 0.3));\n",
              "      fill: #FFFFFF;\n",
              "    }\n",
              "  </style>\n",
              "\n",
              "      <script>\n",
              "        const buttonEl =\n",
              "          document.querySelector('#df-8c29292b-e03f-48db-b921-f3b1e10254bd button.colab-df-convert');\n",
              "        buttonEl.style.display =\n",
              "          google.colab.kernel.accessAllowed ? 'block' : 'none';\n",
              "\n",
              "        async function convertToInteractive(key) {\n",
              "          const element = document.querySelector('#df-8c29292b-e03f-48db-b921-f3b1e10254bd');\n",
              "          const dataTable =\n",
              "            await google.colab.kernel.invokeFunction('convertToInteractive',\n",
              "                                                     [key], {});\n",
              "          if (!dataTable) return;\n",
              "\n",
              "          const docLinkHtml = 'Like what you see? Visit the ' +\n",
              "            '<a target=\"_blank\" href=https://colab.research.google.com/notebooks/data_table.ipynb>data table notebook</a>'\n",
              "            + ' to learn more about interactive tables.';\n",
              "          element.innerHTML = '';\n",
              "          dataTable['output_type'] = 'display_data';\n",
              "          await google.colab.output.renderOutput(dataTable, element);\n",
              "          const docLink = document.createElement('div');\n",
              "          docLink.innerHTML = docLinkHtml;\n",
              "          element.appendChild(docLink);\n",
              "        }\n",
              "      </script>\n",
              "    </div>\n",
              "  </div>\n",
              "  "
            ]
          },
          "metadata": {},
          "execution_count": 95
        }
      ],
      "source": [
        "result=pd.DataFrame({'models':['base model','tuned model'],'train accuracy':[train_accuracy,train_accuracy_tuned],\n",
        "                     'test accuracy':[test_accuracy,test_accuracy_tuned]})\n",
        "result"
      ]
    },
    {
      "cell_type": "markdown",
      "metadata": {
        "id": "qDQAi2iGEDv9"
      },
      "source": [
        "We can see that hypertuning parameters using RandomizedSearchCV has improved the test set accuracy and also minimized the difference between accuracy of train and test set thus reducing overfitting."
      ]
    },
    {
      "cell_type": "code",
      "execution_count": 95,
      "metadata": {
        "id": "08AsRi2gEDv-"
      },
      "outputs": [],
      "source": []
    }
  ],
  "metadata": {
    "kernelspec": {
      "display_name": "Python 3",
      "language": "python",
      "name": "python3"
    },
    "language_info": {
      "codemirror_mode": {
        "name": "ipython",
        "version": 3
      },
      "file_extension": ".py",
      "mimetype": "text/x-python",
      "name": "python",
      "nbconvert_exporter": "python",
      "pygments_lexer": "ipython3",
      "version": "3.8.3"
    },
    "colab": {
      "provenance": [],
      "include_colab_link": true
    }
  },
  "nbformat": 4,
  "nbformat_minor": 0
}
