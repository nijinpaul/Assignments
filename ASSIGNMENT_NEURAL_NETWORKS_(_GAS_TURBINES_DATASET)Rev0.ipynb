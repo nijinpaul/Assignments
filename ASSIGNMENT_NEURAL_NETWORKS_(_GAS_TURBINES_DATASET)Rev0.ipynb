{
  "cells": [
    {
      "cell_type": "markdown",
      "metadata": {
        "id": "view-in-github",
        "colab_type": "text"
      },
      "source": [
        "<a href=\"https://colab.research.google.com/github/nijinpaul/Assignments/blob/main/ASSIGNMENT_NEURAL_NETWORKS_(_GAS_TURBINES_DATASET)Rev0.ipynb\" target=\"_parent\"><img src=\"https://colab.research.google.com/assets/colab-badge.svg\" alt=\"Open In Colab\"/></a>"
      ]
    },
    {
      "cell_type": "code",
      "execution_count": 4,
      "metadata": {
        "id": "2GwqORI-z--2"
      },
      "outputs": [],
      "source": [
        "import numpy as np\n",
        "import pandas as pd\n",
        "import matplotlib.pyplot as plt"
      ]
    },
    {
      "cell_type": "code",
      "execution_count": 5,
      "metadata": {
        "id": "0mdTHnL3z--9"
      },
      "outputs": [],
      "source": [
        "from keras.models import Sequential\n",
        "from keras.layers import Dense"
      ]
    },
    {
      "cell_type": "code",
      "execution_count": 6,
      "metadata": {
        "colab": {
          "base_uri": "https://localhost:8080/",
          "height": 206
        },
        "id": "4EhfgBmxz---",
        "outputId": "19b490f3-cc82-4915-f051-e3a1ad2f8834"
      },
      "outputs": [
        {
          "output_type": "execute_result",
          "data": {
            "text/plain": [
              "       AT      AP      AH    AFDP    GTEP     TIT     TAT     TEY     CDP  \\\n",
              "0  6.8594  1007.9  96.799  3.5000  19.663  1059.2  550.00  114.70  10.605   \n",
              "1  6.7850  1008.4  97.118  3.4998  19.728  1059.3  550.00  114.72  10.598   \n",
              "2  6.8977  1008.8  95.939  3.4824  19.779  1059.4  549.87  114.71  10.601   \n",
              "3  7.0569  1009.2  95.249  3.4805  19.792  1059.6  549.99  114.72  10.606   \n",
              "4  7.3978  1009.7  95.150  3.4976  19.765  1059.7  549.98  114.72  10.612   \n",
              "\n",
              "       CO     NOX  \n",
              "0  3.1547  82.722  \n",
              "1  3.2363  82.776  \n",
              "2  3.2012  82.468  \n",
              "3  3.1923  82.670  \n",
              "4  3.2484  82.311  "
            ],
            "text/html": [
              "\n",
              "  <div id=\"df-92039c7d-7657-459f-bc9e-3431f1615d59\">\n",
              "    <div class=\"colab-df-container\">\n",
              "      <div>\n",
              "<style scoped>\n",
              "    .dataframe tbody tr th:only-of-type {\n",
              "        vertical-align: middle;\n",
              "    }\n",
              "\n",
              "    .dataframe tbody tr th {\n",
              "        vertical-align: top;\n",
              "    }\n",
              "\n",
              "    .dataframe thead th {\n",
              "        text-align: right;\n",
              "    }\n",
              "</style>\n",
              "<table border=\"1\" class=\"dataframe\">\n",
              "  <thead>\n",
              "    <tr style=\"text-align: right;\">\n",
              "      <th></th>\n",
              "      <th>AT</th>\n",
              "      <th>AP</th>\n",
              "      <th>AH</th>\n",
              "      <th>AFDP</th>\n",
              "      <th>GTEP</th>\n",
              "      <th>TIT</th>\n",
              "      <th>TAT</th>\n",
              "      <th>TEY</th>\n",
              "      <th>CDP</th>\n",
              "      <th>CO</th>\n",
              "      <th>NOX</th>\n",
              "    </tr>\n",
              "  </thead>\n",
              "  <tbody>\n",
              "    <tr>\n",
              "      <th>0</th>\n",
              "      <td>6.8594</td>\n",
              "      <td>1007.9</td>\n",
              "      <td>96.799</td>\n",
              "      <td>3.5000</td>\n",
              "      <td>19.663</td>\n",
              "      <td>1059.2</td>\n",
              "      <td>550.00</td>\n",
              "      <td>114.70</td>\n",
              "      <td>10.605</td>\n",
              "      <td>3.1547</td>\n",
              "      <td>82.722</td>\n",
              "    </tr>\n",
              "    <tr>\n",
              "      <th>1</th>\n",
              "      <td>6.7850</td>\n",
              "      <td>1008.4</td>\n",
              "      <td>97.118</td>\n",
              "      <td>3.4998</td>\n",
              "      <td>19.728</td>\n",
              "      <td>1059.3</td>\n",
              "      <td>550.00</td>\n",
              "      <td>114.72</td>\n",
              "      <td>10.598</td>\n",
              "      <td>3.2363</td>\n",
              "      <td>82.776</td>\n",
              "    </tr>\n",
              "    <tr>\n",
              "      <th>2</th>\n",
              "      <td>6.8977</td>\n",
              "      <td>1008.8</td>\n",
              "      <td>95.939</td>\n",
              "      <td>3.4824</td>\n",
              "      <td>19.779</td>\n",
              "      <td>1059.4</td>\n",
              "      <td>549.87</td>\n",
              "      <td>114.71</td>\n",
              "      <td>10.601</td>\n",
              "      <td>3.2012</td>\n",
              "      <td>82.468</td>\n",
              "    </tr>\n",
              "    <tr>\n",
              "      <th>3</th>\n",
              "      <td>7.0569</td>\n",
              "      <td>1009.2</td>\n",
              "      <td>95.249</td>\n",
              "      <td>3.4805</td>\n",
              "      <td>19.792</td>\n",
              "      <td>1059.6</td>\n",
              "      <td>549.99</td>\n",
              "      <td>114.72</td>\n",
              "      <td>10.606</td>\n",
              "      <td>3.1923</td>\n",
              "      <td>82.670</td>\n",
              "    </tr>\n",
              "    <tr>\n",
              "      <th>4</th>\n",
              "      <td>7.3978</td>\n",
              "      <td>1009.7</td>\n",
              "      <td>95.150</td>\n",
              "      <td>3.4976</td>\n",
              "      <td>19.765</td>\n",
              "      <td>1059.7</td>\n",
              "      <td>549.98</td>\n",
              "      <td>114.72</td>\n",
              "      <td>10.612</td>\n",
              "      <td>3.2484</td>\n",
              "      <td>82.311</td>\n",
              "    </tr>\n",
              "  </tbody>\n",
              "</table>\n",
              "</div>\n",
              "      <button class=\"colab-df-convert\" onclick=\"convertToInteractive('df-92039c7d-7657-459f-bc9e-3431f1615d59')\"\n",
              "              title=\"Convert this dataframe to an interactive table.\"\n",
              "              style=\"display:none;\">\n",
              "        \n",
              "  <svg xmlns=\"http://www.w3.org/2000/svg\" height=\"24px\"viewBox=\"0 0 24 24\"\n",
              "       width=\"24px\">\n",
              "    <path d=\"M0 0h24v24H0V0z\" fill=\"none\"/>\n",
              "    <path d=\"M18.56 5.44l.94 2.06.94-2.06 2.06-.94-2.06-.94-.94-2.06-.94 2.06-2.06.94zm-11 1L8.5 8.5l.94-2.06 2.06-.94-2.06-.94L8.5 2.5l-.94 2.06-2.06.94zm10 10l.94 2.06.94-2.06 2.06-.94-2.06-.94-.94-2.06-.94 2.06-2.06.94z\"/><path d=\"M17.41 7.96l-1.37-1.37c-.4-.4-.92-.59-1.43-.59-.52 0-1.04.2-1.43.59L10.3 9.45l-7.72 7.72c-.78.78-.78 2.05 0 2.83L4 21.41c.39.39.9.59 1.41.59.51 0 1.02-.2 1.41-.59l7.78-7.78 2.81-2.81c.8-.78.8-2.07 0-2.86zM5.41 20L4 18.59l7.72-7.72 1.47 1.35L5.41 20z\"/>\n",
              "  </svg>\n",
              "      </button>\n",
              "      \n",
              "  <style>\n",
              "    .colab-df-container {\n",
              "      display:flex;\n",
              "      flex-wrap:wrap;\n",
              "      gap: 12px;\n",
              "    }\n",
              "\n",
              "    .colab-df-convert {\n",
              "      background-color: #E8F0FE;\n",
              "      border: none;\n",
              "      border-radius: 50%;\n",
              "      cursor: pointer;\n",
              "      display: none;\n",
              "      fill: #1967D2;\n",
              "      height: 32px;\n",
              "      padding: 0 0 0 0;\n",
              "      width: 32px;\n",
              "    }\n",
              "\n",
              "    .colab-df-convert:hover {\n",
              "      background-color: #E2EBFA;\n",
              "      box-shadow: 0px 1px 2px rgba(60, 64, 67, 0.3), 0px 1px 3px 1px rgba(60, 64, 67, 0.15);\n",
              "      fill: #174EA6;\n",
              "    }\n",
              "\n",
              "    [theme=dark] .colab-df-convert {\n",
              "      background-color: #3B4455;\n",
              "      fill: #D2E3FC;\n",
              "    }\n",
              "\n",
              "    [theme=dark] .colab-df-convert:hover {\n",
              "      background-color: #434B5C;\n",
              "      box-shadow: 0px 1px 3px 1px rgba(0, 0, 0, 0.15);\n",
              "      filter: drop-shadow(0px 1px 2px rgba(0, 0, 0, 0.3));\n",
              "      fill: #FFFFFF;\n",
              "    }\n",
              "  </style>\n",
              "\n",
              "      <script>\n",
              "        const buttonEl =\n",
              "          document.querySelector('#df-92039c7d-7657-459f-bc9e-3431f1615d59 button.colab-df-convert');\n",
              "        buttonEl.style.display =\n",
              "          google.colab.kernel.accessAllowed ? 'block' : 'none';\n",
              "\n",
              "        async function convertToInteractive(key) {\n",
              "          const element = document.querySelector('#df-92039c7d-7657-459f-bc9e-3431f1615d59');\n",
              "          const dataTable =\n",
              "            await google.colab.kernel.invokeFunction('convertToInteractive',\n",
              "                                                     [key], {});\n",
              "          if (!dataTable) return;\n",
              "\n",
              "          const docLinkHtml = 'Like what you see? Visit the ' +\n",
              "            '<a target=\"_blank\" href=https://colab.research.google.com/notebooks/data_table.ipynb>data table notebook</a>'\n",
              "            + ' to learn more about interactive tables.';\n",
              "          element.innerHTML = '';\n",
              "          dataTable['output_type'] = 'display_data';\n",
              "          await google.colab.output.renderOutput(dataTable, element);\n",
              "          const docLink = document.createElement('div');\n",
              "          docLink.innerHTML = docLinkHtml;\n",
              "          element.appendChild(docLink);\n",
              "        }\n",
              "      </script>\n",
              "    </div>\n",
              "  </div>\n",
              "  "
            ]
          },
          "metadata": {},
          "execution_count": 6
        }
      ],
      "source": [
        "df=pd.read_csv('/content/gas_turbines.csv')\n",
        "df.head()"
      ]
    },
    {
      "cell_type": "code",
      "execution_count": 7,
      "metadata": {
        "colab": {
          "base_uri": "https://localhost:8080/",
          "height": 0
        },
        "id": "amSKrXv9z--_",
        "outputId": "f19011bd-f858-4224-b4b5-d6f3d3b40e00"
      },
      "outputs": [
        {
          "output_type": "stream",
          "name": "stdout",
          "text": [
            "Shape of dataset before dropping duplicates: (15039, 11)\n"
          ]
        }
      ],
      "source": [
        "print('Shape of dataset before dropping duplicates:',df.shape)"
      ]
    },
    {
      "cell_type": "code",
      "execution_count": 8,
      "metadata": {
        "id": "-TZN6yXUz-_A"
      },
      "outputs": [],
      "source": [
        "df.drop_duplicates(keep=False,inplace=True)"
      ]
    },
    {
      "cell_type": "code",
      "execution_count": 9,
      "metadata": {
        "colab": {
          "base_uri": "https://localhost:8080/",
          "height": 0
        },
        "id": "Qe6jcmlmz-_A",
        "outputId": "48d848e2-20d3-4708-ece4-fe4b5f34b06e"
      },
      "outputs": [
        {
          "output_type": "stream",
          "name": "stdout",
          "text": [
            "Shape of dataset after dropping duplicates: (15039, 11)\n"
          ]
        }
      ],
      "source": [
        "print('Shape of dataset after dropping duplicates:',df.shape)"
      ]
    },
    {
      "cell_type": "code",
      "execution_count": 10,
      "metadata": {
        "colab": {
          "base_uri": "https://localhost:8080/",
          "height": 0
        },
        "id": "lQGAbZYEz-_B",
        "outputId": "7c5e091b-246a-420b-918d-8664d6b20cc8"
      },
      "outputs": [
        {
          "output_type": "stream",
          "name": "stdout",
          "text": [
            "<class 'pandas.core.frame.DataFrame'>\n",
            "Int64Index: 15039 entries, 0 to 15038\n",
            "Data columns (total 11 columns):\n",
            " #   Column  Non-Null Count  Dtype  \n",
            "---  ------  --------------  -----  \n",
            " 0   AT      15039 non-null  float64\n",
            " 1   AP      15039 non-null  float64\n",
            " 2   AH      15039 non-null  float64\n",
            " 3   AFDP    15039 non-null  float64\n",
            " 4   GTEP    15039 non-null  float64\n",
            " 5   TIT     15039 non-null  float64\n",
            " 6   TAT     15039 non-null  float64\n",
            " 7   TEY     15039 non-null  float64\n",
            " 8   CDP     15039 non-null  float64\n",
            " 9   CO      15039 non-null  float64\n",
            " 10  NOX     15039 non-null  float64\n",
            "dtypes: float64(11)\n",
            "memory usage: 1.4 MB\n"
          ]
        }
      ],
      "source": [
        "df.info()"
      ]
    },
    {
      "cell_type": "code",
      "execution_count": 11,
      "metadata": {
        "colab": {
          "base_uri": "https://localhost:8080/",
          "height": 364
        },
        "id": "fnvmeJ-Yz-_C",
        "outputId": "f596f58c-5295-44d3-a7b0-0c36f46526a7"
      },
      "outputs": [
        {
          "output_type": "execute_result",
          "data": {
            "text/plain": [
              "                 AT           AP            AH          AFDP          GTEP  \\\n",
              "count  15039.000000  15039.00000  15039.000000  15039.000000  15039.000000   \n",
              "mean      17.764381   1013.19924     79.124174      4.200294     25.419061   \n",
              "std        7.574323      6.41076     13.793439      0.760197      4.173916   \n",
              "min        0.522300    985.85000     30.344000      2.087400     17.878000   \n",
              "25%       11.408000   1008.90000     69.750000      3.723900     23.294000   \n",
              "50%       18.186000   1012.80000     82.266000      4.186200     25.082000   \n",
              "75%       23.862500   1016.90000     90.043500      4.550900     27.184000   \n",
              "max       34.929000   1034.20000    100.200000      7.610600     37.402000   \n",
              "\n",
              "                TIT           TAT           TEY           CDP            CO  \\\n",
              "count  15039.000000  15039.000000  15039.000000  15039.000000  15039.000000   \n",
              "mean    1083.798770    545.396183    134.188464     12.102353      1.972499   \n",
              "std       16.527806      7.866803     15.829717      1.103196      2.222206   \n",
              "min     1000.800000    512.450000    100.170000      9.904400      0.000388   \n",
              "25%     1079.600000    542.170000    127.985000     11.622000      0.858055   \n",
              "50%     1088.700000    549.890000    133.780000     12.025000      1.390200   \n",
              "75%     1096.000000    550.060000    140.895000     12.578000      2.160400   \n",
              "max     1100.800000    550.610000    174.610000     15.081000     44.103000   \n",
              "\n",
              "                NOX  \n",
              "count  15039.000000  \n",
              "mean      68.190934  \n",
              "std       10.470586  \n",
              "min       27.765000  \n",
              "25%       61.303500  \n",
              "50%       66.601000  \n",
              "75%       73.935500  \n",
              "max      119.890000  "
            ],
            "text/html": [
              "\n",
              "  <div id=\"df-d9f2836d-8142-4ad1-be92-30f63d6379ac\">\n",
              "    <div class=\"colab-df-container\">\n",
              "      <div>\n",
              "<style scoped>\n",
              "    .dataframe tbody tr th:only-of-type {\n",
              "        vertical-align: middle;\n",
              "    }\n",
              "\n",
              "    .dataframe tbody tr th {\n",
              "        vertical-align: top;\n",
              "    }\n",
              "\n",
              "    .dataframe thead th {\n",
              "        text-align: right;\n",
              "    }\n",
              "</style>\n",
              "<table border=\"1\" class=\"dataframe\">\n",
              "  <thead>\n",
              "    <tr style=\"text-align: right;\">\n",
              "      <th></th>\n",
              "      <th>AT</th>\n",
              "      <th>AP</th>\n",
              "      <th>AH</th>\n",
              "      <th>AFDP</th>\n",
              "      <th>GTEP</th>\n",
              "      <th>TIT</th>\n",
              "      <th>TAT</th>\n",
              "      <th>TEY</th>\n",
              "      <th>CDP</th>\n",
              "      <th>CO</th>\n",
              "      <th>NOX</th>\n",
              "    </tr>\n",
              "  </thead>\n",
              "  <tbody>\n",
              "    <tr>\n",
              "      <th>count</th>\n",
              "      <td>15039.000000</td>\n",
              "      <td>15039.00000</td>\n",
              "      <td>15039.000000</td>\n",
              "      <td>15039.000000</td>\n",
              "      <td>15039.000000</td>\n",
              "      <td>15039.000000</td>\n",
              "      <td>15039.000000</td>\n",
              "      <td>15039.000000</td>\n",
              "      <td>15039.000000</td>\n",
              "      <td>15039.000000</td>\n",
              "      <td>15039.000000</td>\n",
              "    </tr>\n",
              "    <tr>\n",
              "      <th>mean</th>\n",
              "      <td>17.764381</td>\n",
              "      <td>1013.19924</td>\n",
              "      <td>79.124174</td>\n",
              "      <td>4.200294</td>\n",
              "      <td>25.419061</td>\n",
              "      <td>1083.798770</td>\n",
              "      <td>545.396183</td>\n",
              "      <td>134.188464</td>\n",
              "      <td>12.102353</td>\n",
              "      <td>1.972499</td>\n",
              "      <td>68.190934</td>\n",
              "    </tr>\n",
              "    <tr>\n",
              "      <th>std</th>\n",
              "      <td>7.574323</td>\n",
              "      <td>6.41076</td>\n",
              "      <td>13.793439</td>\n",
              "      <td>0.760197</td>\n",
              "      <td>4.173916</td>\n",
              "      <td>16.527806</td>\n",
              "      <td>7.866803</td>\n",
              "      <td>15.829717</td>\n",
              "      <td>1.103196</td>\n",
              "      <td>2.222206</td>\n",
              "      <td>10.470586</td>\n",
              "    </tr>\n",
              "    <tr>\n",
              "      <th>min</th>\n",
              "      <td>0.522300</td>\n",
              "      <td>985.85000</td>\n",
              "      <td>30.344000</td>\n",
              "      <td>2.087400</td>\n",
              "      <td>17.878000</td>\n",
              "      <td>1000.800000</td>\n",
              "      <td>512.450000</td>\n",
              "      <td>100.170000</td>\n",
              "      <td>9.904400</td>\n",
              "      <td>0.000388</td>\n",
              "      <td>27.765000</td>\n",
              "    </tr>\n",
              "    <tr>\n",
              "      <th>25%</th>\n",
              "      <td>11.408000</td>\n",
              "      <td>1008.90000</td>\n",
              "      <td>69.750000</td>\n",
              "      <td>3.723900</td>\n",
              "      <td>23.294000</td>\n",
              "      <td>1079.600000</td>\n",
              "      <td>542.170000</td>\n",
              "      <td>127.985000</td>\n",
              "      <td>11.622000</td>\n",
              "      <td>0.858055</td>\n",
              "      <td>61.303500</td>\n",
              "    </tr>\n",
              "    <tr>\n",
              "      <th>50%</th>\n",
              "      <td>18.186000</td>\n",
              "      <td>1012.80000</td>\n",
              "      <td>82.266000</td>\n",
              "      <td>4.186200</td>\n",
              "      <td>25.082000</td>\n",
              "      <td>1088.700000</td>\n",
              "      <td>549.890000</td>\n",
              "      <td>133.780000</td>\n",
              "      <td>12.025000</td>\n",
              "      <td>1.390200</td>\n",
              "      <td>66.601000</td>\n",
              "    </tr>\n",
              "    <tr>\n",
              "      <th>75%</th>\n",
              "      <td>23.862500</td>\n",
              "      <td>1016.90000</td>\n",
              "      <td>90.043500</td>\n",
              "      <td>4.550900</td>\n",
              "      <td>27.184000</td>\n",
              "      <td>1096.000000</td>\n",
              "      <td>550.060000</td>\n",
              "      <td>140.895000</td>\n",
              "      <td>12.578000</td>\n",
              "      <td>2.160400</td>\n",
              "      <td>73.935500</td>\n",
              "    </tr>\n",
              "    <tr>\n",
              "      <th>max</th>\n",
              "      <td>34.929000</td>\n",
              "      <td>1034.20000</td>\n",
              "      <td>100.200000</td>\n",
              "      <td>7.610600</td>\n",
              "      <td>37.402000</td>\n",
              "      <td>1100.800000</td>\n",
              "      <td>550.610000</td>\n",
              "      <td>174.610000</td>\n",
              "      <td>15.081000</td>\n",
              "      <td>44.103000</td>\n",
              "      <td>119.890000</td>\n",
              "    </tr>\n",
              "  </tbody>\n",
              "</table>\n",
              "</div>\n",
              "      <button class=\"colab-df-convert\" onclick=\"convertToInteractive('df-d9f2836d-8142-4ad1-be92-30f63d6379ac')\"\n",
              "              title=\"Convert this dataframe to an interactive table.\"\n",
              "              style=\"display:none;\">\n",
              "        \n",
              "  <svg xmlns=\"http://www.w3.org/2000/svg\" height=\"24px\"viewBox=\"0 0 24 24\"\n",
              "       width=\"24px\">\n",
              "    <path d=\"M0 0h24v24H0V0z\" fill=\"none\"/>\n",
              "    <path d=\"M18.56 5.44l.94 2.06.94-2.06 2.06-.94-2.06-.94-.94-2.06-.94 2.06-2.06.94zm-11 1L8.5 8.5l.94-2.06 2.06-.94-2.06-.94L8.5 2.5l-.94 2.06-2.06.94zm10 10l.94 2.06.94-2.06 2.06-.94-2.06-.94-.94-2.06-.94 2.06-2.06.94z\"/><path d=\"M17.41 7.96l-1.37-1.37c-.4-.4-.92-.59-1.43-.59-.52 0-1.04.2-1.43.59L10.3 9.45l-7.72 7.72c-.78.78-.78 2.05 0 2.83L4 21.41c.39.39.9.59 1.41.59.51 0 1.02-.2 1.41-.59l7.78-7.78 2.81-2.81c.8-.78.8-2.07 0-2.86zM5.41 20L4 18.59l7.72-7.72 1.47 1.35L5.41 20z\"/>\n",
              "  </svg>\n",
              "      </button>\n",
              "      \n",
              "  <style>\n",
              "    .colab-df-container {\n",
              "      display:flex;\n",
              "      flex-wrap:wrap;\n",
              "      gap: 12px;\n",
              "    }\n",
              "\n",
              "    .colab-df-convert {\n",
              "      background-color: #E8F0FE;\n",
              "      border: none;\n",
              "      border-radius: 50%;\n",
              "      cursor: pointer;\n",
              "      display: none;\n",
              "      fill: #1967D2;\n",
              "      height: 32px;\n",
              "      padding: 0 0 0 0;\n",
              "      width: 32px;\n",
              "    }\n",
              "\n",
              "    .colab-df-convert:hover {\n",
              "      background-color: #E2EBFA;\n",
              "      box-shadow: 0px 1px 2px rgba(60, 64, 67, 0.3), 0px 1px 3px 1px rgba(60, 64, 67, 0.15);\n",
              "      fill: #174EA6;\n",
              "    }\n",
              "\n",
              "    [theme=dark] .colab-df-convert {\n",
              "      background-color: #3B4455;\n",
              "      fill: #D2E3FC;\n",
              "    }\n",
              "\n",
              "    [theme=dark] .colab-df-convert:hover {\n",
              "      background-color: #434B5C;\n",
              "      box-shadow: 0px 1px 3px 1px rgba(0, 0, 0, 0.15);\n",
              "      filter: drop-shadow(0px 1px 2px rgba(0, 0, 0, 0.3));\n",
              "      fill: #FFFFFF;\n",
              "    }\n",
              "  </style>\n",
              "\n",
              "      <script>\n",
              "        const buttonEl =\n",
              "          document.querySelector('#df-d9f2836d-8142-4ad1-be92-30f63d6379ac button.colab-df-convert');\n",
              "        buttonEl.style.display =\n",
              "          google.colab.kernel.accessAllowed ? 'block' : 'none';\n",
              "\n",
              "        async function convertToInteractive(key) {\n",
              "          const element = document.querySelector('#df-d9f2836d-8142-4ad1-be92-30f63d6379ac');\n",
              "          const dataTable =\n",
              "            await google.colab.kernel.invokeFunction('convertToInteractive',\n",
              "                                                     [key], {});\n",
              "          if (!dataTable) return;\n",
              "\n",
              "          const docLinkHtml = 'Like what you see? Visit the ' +\n",
              "            '<a target=\"_blank\" href=https://colab.research.google.com/notebooks/data_table.ipynb>data table notebook</a>'\n",
              "            + ' to learn more about interactive tables.';\n",
              "          element.innerHTML = '';\n",
              "          dataTable['output_type'] = 'display_data';\n",
              "          await google.colab.output.renderOutput(dataTable, element);\n",
              "          const docLink = document.createElement('div');\n",
              "          docLink.innerHTML = docLinkHtml;\n",
              "          element.appendChild(docLink);\n",
              "        }\n",
              "      </script>\n",
              "    </div>\n",
              "  </div>\n",
              "  "
            ]
          },
          "metadata": {},
          "execution_count": 11
        }
      ],
      "source": [
        "df.describe()"
      ]
    },
    {
      "cell_type": "code",
      "execution_count": 12,
      "metadata": {
        "colab": {
          "base_uri": "https://localhost:8080/",
          "height": 0
        },
        "id": "egFcSE7Bz-_C",
        "outputId": "8ac9f29d-cdb1-45aa-a191-904b589a515a"
      },
      "outputs": [
        {
          "output_type": "execute_result",
          "data": {
            "text/plain": [
              "Index(['AT', 'AP', 'AH', 'AFDP', 'GTEP', 'TIT', 'TAT', 'TEY', 'CDP', 'CO',\n",
              "       'NOX'],\n",
              "      dtype='object')"
            ]
          },
          "metadata": {},
          "execution_count": 12
        }
      ],
      "source": [
        "df.columns"
      ]
    },
    {
      "cell_type": "code",
      "execution_count": 13,
      "metadata": {
        "id": "KcFST8moz-_D"
      },
      "outputs": [],
      "source": [
        "# Splitting into X and Y\n",
        "X=df.loc[:,['AT', 'AP', 'AH', 'AFDP', 'GTEP', 'TIT', 'TAT','CDP', 'CO','NOX']]\n",
        "Y=df.loc[:,['TEY']] ## Takeing Turbine energy yield as dependent variable"
      ]
    },
    {
      "cell_type": "code",
      "execution_count": 14,
      "metadata": {
        "id": "b0N0380Rz-_E"
      },
      "outputs": [],
      "source": [
        "# Splitting into training and testing set\n",
        "\n",
        "from sklearn.model_selection import train_test_split\n",
        "X_train,X_test,Y_train,Y_test=train_test_split(X,Y,test_size=0.3,random_state=10)\n"
      ]
    },
    {
      "cell_type": "markdown",
      "metadata": {
        "id": "7gvUFYYTz-_F"
      },
      "source": [
        "### Using ColumnTransformer to standardize X"
      ]
    },
    {
      "cell_type": "code",
      "execution_count": 15,
      "metadata": {
        "id": "GhopM3Wgz-_G"
      },
      "outputs": [],
      "source": [
        "from sklearn.preprocessing import StandardScaler\n",
        "\n",
        "from sklearn.compose import ColumnTransformer\n",
        "\n",
        "t=[('num',StandardScaler(),['AT', 'AP', 'AH', 'AFDP', 'GTEP', 'TIT', 'TAT','CDP', 'CO','NOX'])]\n",
        "transformer=ColumnTransformer(transformers=t)\n",
        "\n",
        "# fit training data\n",
        "transformer.fit(X_train)\n",
        "\n",
        "# transform training data\n",
        "X_train = transformer.transform(X_train)\n",
        "\n",
        "# transform the test data\n",
        "X_test = transformer.transform(X_test)\n"
      ]
    },
    {
      "cell_type": "code",
      "execution_count": 16,
      "metadata": {
        "colab": {
          "base_uri": "https://localhost:8080/",
          "height": 0
        },
        "id": "7bsb13SIz-_H",
        "outputId": "82914ea1-02a4-4ea1-8a52-ccee676a29e0"
      },
      "outputs": [
        {
          "output_type": "stream",
          "name": "stdout",
          "text": [
            "Shape of training data (10527, 10)\n",
            "Shape of testing data (4512, 10)\n"
          ]
        }
      ],
      "source": [
        "print(\"Shape of training data\",X_train.shape)\n",
        "print(\"Shape of testing data\",X_test.shape)"
      ]
    },
    {
      "cell_type": "markdown",
      "metadata": {
        "id": "nX-QKU3lz-_I"
      },
      "source": [
        "## Building Neural Network base model"
      ]
    },
    {
      "cell_type": "code",
      "execution_count": 17,
      "metadata": {
        "colab": {
          "base_uri": "https://localhost:8080/",
          "height": 0
        },
        "id": "LMMBJxoQz-_I",
        "outputId": "adf65881-4ae6-4483-d0b6-0c22709d740d"
      },
      "outputs": [
        {
          "output_type": "stream",
          "name": "stdout",
          "text": [
            "Input dimension: 10\n"
          ]
        }
      ],
      "source": [
        "print('Input dimension:',X_test.shape[1])"
      ]
    },
    {
      "cell_type": "code",
      "execution_count": 18,
      "metadata": {
        "id": "83sIc8YWz-_J"
      },
      "outputs": [],
      "source": [
        "model = Sequential()\n",
        "model.add(Dense(10, input_dim=10,kernel_initializer='uniform', activation='relu'))\n",
        "model.add(Dense(20, kernel_initializer='uniform', activation='relu'))\n",
        "model.add(Dense(1, kernel_initializer='uniform', activation='linear'))\n",
        "\n"
      ]
    },
    {
      "cell_type": "code",
      "execution_count": 19,
      "metadata": {
        "id": "BJj1zEjFz-_J"
      },
      "outputs": [],
      "source": [
        "import pydot\n",
        "import keras\n",
        "from keras.utils.vis_utils import plot_model\n",
        "keras.utils.vis_utils.pydot = pydot"
      ]
    },
    {
      "cell_type": "code",
      "execution_count": 20,
      "metadata": {
        "colab": {
          "base_uri": "https://localhost:8080/",
          "height": 422
        },
        "id": "Yatsg_Foz-_J",
        "outputId": "937a79e3-2915-4c93-9c69-8c15018392f1"
      },
      "outputs": [
        {
          "output_type": "execute_result",
          "data": {
            "image/png": "[encoded data removed]",
            "text/plain": [
              "<IPython.core.display.Image object>"
            ]
          },
          "metadata": {},
          "execution_count": 20
        }
      ],
      "source": [
        "# Visualizing the neural network\n",
        "plot_model(model,show_shapes=True, show_layer_names=True)"
      ]
    },
    {
      "cell_type": "code",
      "execution_count": 21,
      "metadata": {
        "colab": {
          "base_uri": "https://localhost:8080/",
          "height": 0
        },
        "id": "ndnsGUoIz-_K",
        "outputId": "ee2ceaa8-0db1-49ca-b87c-0c218dd69043"
      },
      "outputs": [
        {
          "output_type": "stream",
          "name": "stdout",
          "text": [
            "Model: \"sequential\"\n",
            "_________________________________________________________________\n",
            " Layer (type)                Output Shape              Param #   \n",
            "=================================================================\n",
            " dense (Dense)               (None, 10)                110       \n",
            "                                                                 \n",
            " dense_1 (Dense)             (None, 20)                220       \n",
            "                                                                 \n",
            " dense_2 (Dense)             (None, 1)                 21        \n",
            "                                                                 \n",
            "=================================================================\n",
            "Total params: 351\n",
            "Trainable params: 351\n",
            "Non-trainable params: 0\n",
            "_________________________________________________________________\n"
          ]
        }
      ],
      "source": [
        "# Summary of neural network\n",
        "model.summary()"
      ]
    },
    {
      "cell_type": "code",
      "execution_count": 22,
      "metadata": {
        "id": "bh7fwVZPz-_L"
      },
      "outputs": [],
      "source": [
        "# Compile model\n",
        "\n",
        "model.compile(loss='mse', optimizer='adam',metrics=['mse','mae'])"
      ]
    },
    {
      "cell_type": "code",
      "execution_count": 23,
      "metadata": {
        "colab": {
          "base_uri": "https://localhost:8080/",
          "height": 0
        },
        "id": "JK7nCLakz-_L",
        "outputId": "c07c346b-c2bd-4879-d5d6-814e9da829e1"
      },
      "outputs": [
        {
          "output_type": "stream",
          "name": "stdout",
          "text": [
            "Epoch 1/50\n",
            "11/11 [==============================] - 1s 24ms/step - loss: 18248.3418 - mse: 18248.3418 - mae: 134.1551 - val_loss: 18267.4199 - val_mse: 18267.4199 - val_mae: 134.2288\n",
            "Epoch 2/50\n",
            "11/11 [==============================] - 0s 6ms/step - loss: 18242.2852 - mse: 18242.2852 - mae: 134.1327 - val_loss: 18259.8008 - val_mse: 18259.8008 - val_mae: 134.2006\n",
            "Epoch 3/50\n",
            "11/11 [==============================] - 0s 6ms/step - loss: 18232.8809 - mse: 18232.8809 - mae: 134.0979 - val_loss: 18247.5449 - val_mse: 18247.5449 - val_mae: 134.1553\n",
            "Epoch 4/50\n",
            "11/11 [==============================] - 0s 7ms/step - loss: 18217.6172 - mse: 18217.6172 - mae: 134.0415 - val_loss: 18227.6367 - val_mse: 18227.6367 - val_mae: 134.0818\n",
            "Epoch 5/50\n",
            "11/11 [==============================] - 0s 6ms/step - loss: 18193.0859 - mse: 18193.0859 - mae: 133.9507 - val_loss: 18195.8867 - val_mse: 18195.8867 - val_mae: 133.9644\n",
            "Epoch 6/50\n",
            "11/11 [==============================] - 0s 6ms/step - loss: 18154.3262 - mse: 18154.3262 - mae: 133.8073 - val_loss: 18146.7129 - val_mse: 18146.7129 - val_mae: 133.7824\n",
            "Epoch 7/50\n",
            "11/11 [==============================] - 0s 6ms/step - loss: 18095.3555 - mse: 18095.3555 - mae: 133.5888 - val_loss: 18074.0273 - val_mse: 18074.0273 - val_mae: 133.5126\n",
            "Epoch 8/50\n",
            "11/11 [==============================] - 0s 8ms/step - loss: 18010.4316 - mse: 18010.4316 - mae: 133.2727 - val_loss: 17971.3789 - val_mse: 17971.3789 - val_mae: 133.1305\n",
            "Epoch 9/50\n",
            "11/11 [==============================] - 0s 6ms/step - loss: 17892.7441 - mse: 17892.7441 - mae: 132.8334 - val_loss: 17832.5098 - val_mse: 17832.5098 - val_mae: 132.6112\n",
            "Epoch 10/50\n",
            "11/11 [==============================] - 0s 7ms/step - loss: 17736.1602 - mse: 17736.1602 - mae: 132.2454 - val_loss: 17651.0898 - val_mse: 17651.0898 - val_mae: 131.9288\n",
            "Epoch 11/50\n",
            "11/11 [==============================] - 0s 8ms/step - loss: 17533.9258 - mse: 17533.9258 - mae: 131.4819 - val_loss: 17420.9512 - val_mse: 17420.9512 - val_mae: 131.0566\n",
            "Epoch 12/50\n",
            "11/11 [==============================] - 0s 8ms/step - loss: 17281.4434 - mse: 17281.4434 - mae: 130.5202 - val_loss: 17135.8789 - val_mse: 17135.8789 - val_mae: 129.9669\n",
            "Epoch 13/50\n",
            "11/11 [==============================] - 0s 6ms/step - loss: 16971.6230 - mse: 16971.6230 - mae: 129.3283 - val_loss: 16792.2324 - val_mse: 16792.2324 - val_mae: 128.6383\n",
            "Epoch 14/50\n",
            "11/11 [==============================] - 0s 8ms/step - loss: 16600.6758 - mse: 16600.6758 - mae: 127.8831 - val_loss: 16386.1094 - val_mse: 16386.1094 - val_mae: 127.0469\n",
            "Epoch 15/50\n",
            "11/11 [==============================] - 0s 7ms/step - loss: 16166.5781 - mse: 16166.5801 - mae: 126.1685 - val_loss: 15914.0146 - val_mse: 15914.0146 - val_mae: 125.1663\n",
            "Epoch 16/50\n",
            "11/11 [==============================] - 0s 6ms/step - loss: 15667.2363 - mse: 15667.2363 - mae: 124.1598 - val_loss: 15375.2646 - val_mse: 15375.2646 - val_mae: 122.9782\n",
            "Epoch 17/50\n",
            "11/11 [==============================] - 0s 6ms/step - loss: 15100.1865 - mse: 15100.1865 - mae: 121.8316 - val_loss: 14772.3887 - val_mse: 14772.3887 - val_mae: 120.4728\n",
            "Epoch 18/50\n",
            "11/11 [==============================] - 0s 6ms/step - loss: 14471.9814 - mse: 14471.9814 - mae: 119.1827 - val_loss: 14106.0283 - val_mse: 14106.0283 - val_mae: 117.6298\n",
            "Epoch 19/50\n",
            "11/11 [==============================] - 0s 8ms/step - loss: 13782.8076 - mse: 13782.8076 - mae: 116.1966 - val_loss: 13382.0996 - val_mse: 13382.0996 - val_mae: 114.4445\n",
            "Epoch 20/50\n",
            "11/11 [==============================] - 0s 6ms/step - loss: 13037.1035 - mse: 13037.1035 - mae: 112.8593 - val_loss: 12609.1680 - val_mse: 12609.1680 - val_mae: 110.9200\n",
            "Epoch 21/50\n",
            "11/11 [==============================] - 0s 8ms/step - loss: 12247.0918 - mse: 12247.0918 - mae: 109.1820 - val_loss: 11794.0312 - val_mse: 11794.0312 - val_mae: 107.0520\n",
            "Epoch 22/50\n",
            "11/11 [==============================] - 0s 7ms/step - loss: 11420.5752 - mse: 11420.5752 - mae: 105.1780 - val_loss: 10948.5596 - val_mse: 10948.5596 - val_mae: 102.8515\n",
            "Epoch 23/50\n",
            "11/11 [==============================] - 0s 7ms/step - loss: 10570.0967 - mse: 10570.0967 - mae: 100.8529 - val_loss: 10084.7480 - val_mse: 10084.7480 - val_mae: 98.3379\n",
            "Epoch 24/50\n",
            "11/11 [==============================] - 0s 7ms/step - loss: 9707.4482 - mse: 9707.4482 - mae: 96.2285 - val_loss: 9217.6846 - val_mse: 9217.6846 - val_mae: 93.5446\n",
            "Epoch 25/50\n",
            "11/11 [==============================] - 0s 6ms/step - loss: 8847.8623 - mse: 8847.8623 - mae: 91.3478 - val_loss: 8362.0146 - val_mse: 8362.0146 - val_mae: 88.5094\n",
            "Epoch 26/50\n",
            "11/11 [==============================] - 0s 7ms/step - loss: 8005.7080 - mse: 8005.7080 - mae: 86.2413 - val_loss: 7531.7466 - val_mse: 7531.7466 - val_mae: 83.2839\n",
            "Epoch 27/50\n",
            "11/11 [==============================] - 0s 6ms/step - loss: 7194.6426 - mse: 7194.6426 - mae: 80.9913 - val_loss: 6739.0044 - val_mse: 6739.0044 - val_mae: 77.9358\n",
            "Epoch 28/50\n",
            "11/11 [==============================] - 0s 7ms/step - loss: 6426.6865 - mse: 6426.6865 - mae: 75.6674 - val_loss: 5997.0107 - val_mse: 5997.0107 - val_mae: 72.5637\n",
            "Epoch 29/50\n",
            "11/11 [==============================] - 0s 6ms/step - loss: 5712.7188 - mse: 5712.7188 - mae: 70.3999 - val_loss: 5313.9575 - val_mse: 5313.9575 - val_mae: 67.2954\n",
            "Epoch 30/50\n",
            "11/11 [==============================] - 0s 8ms/step - loss: 5059.9082 - mse: 5059.9082 - mae: 65.2331 - val_loss: 4696.3965 - val_mse: 4696.3965 - val_mae: 62.1556\n",
            "Epoch 31/50\n",
            "11/11 [==============================] - 0s 7ms/step - loss: 4474.3105 - mse: 4474.3105 - mae: 60.2148 - val_loss: 4146.7427 - val_mse: 4146.7427 - val_mae: 57.2282\n",
            "Epoch 32/50\n",
            "11/11 [==============================] - 0s 6ms/step - loss: 3955.6204 - mse: 3955.6204 - mae: 55.4560 - val_loss: 3666.9431 - val_mse: 3666.9431 - val_mae: 52.6277\n",
            "Epoch 33/50\n",
            "11/11 [==============================] - 0s 6ms/step - loss: 3504.3857 - mse: 3504.3857 - mae: 51.0777 - val_loss: 3253.4727 - val_mse: 3253.4727 - val_mae: 48.5295\n",
            "Epoch 34/50\n",
            "11/11 [==============================] - 0s 7ms/step - loss: 3117.2930 - mse: 3117.2930 - mae: 47.2567 - val_loss: 2901.2466 - val_mse: 2901.2466 - val_mae: 45.0678\n",
            "Epoch 35/50\n",
            "11/11 [==============================] - 0s 6ms/step - loss: 2788.4792 - mse: 2788.4792 - mae: 44.0722 - val_loss: 2604.4294 - val_mse: 2604.4294 - val_mae: 42.2432\n",
            "Epoch 36/50\n",
            "11/11 [==============================] - 0s 8ms/step - loss: 2512.0542 - mse: 2512.0542 - mae: 41.4655 - val_loss: 2354.0591 - val_mse: 2354.0591 - val_mae: 39.9430\n",
            "Epoch 37/50\n",
            "11/11 [==============================] - 0s 5ms/step - loss: 2278.3547 - mse: 2278.3547 - mae: 39.3438 - val_loss: 2143.7429 - val_mse: 2143.7429 - val_mae: 38.0773\n",
            "Epoch 38/50\n",
            "11/11 [==============================] - 0s 7ms/step - loss: 2081.4341 - mse: 2081.4341 - mae: 37.5991 - val_loss: 1965.7590 - val_mse: 1965.7590 - val_mae: 36.5088\n",
            "Epoch 39/50\n",
            "11/11 [==============================] - 0s 7ms/step - loss: 1913.3519 - mse: 1913.3519 - mae: 36.1003 - val_loss: 1815.3274 - val_mse: 1815.3274 - val_mae: 35.1376\n",
            "Epoch 40/50\n",
            "11/11 [==============================] - 0s 7ms/step - loss: 1770.9547 - mse: 1770.9547 - mae: 34.7866 - val_loss: 1684.7380 - val_mse: 1684.7380 - val_mae: 33.9134\n",
            "Epoch 41/50\n",
            "11/11 [==============================] - 0s 7ms/step - loss: 1646.2012 - mse: 1646.2012 - mae: 33.5824 - val_loss: 1571.2773 - val_mse: 1571.2773 - val_mae: 32.7982\n",
            "Epoch 42/50\n",
            "11/11 [==============================] - 0s 7ms/step - loss: 1537.5865 - mse: 1537.5865 - mae: 32.4754 - val_loss: 1470.7300 - val_mse: 1470.7300 - val_mae: 31.7582\n",
            "Epoch 43/50\n",
            "11/11 [==============================] - 0s 5ms/step - loss: 1441.2644 - mse: 1441.2644 - mae: 31.4349 - val_loss: 1381.2098 - val_mse: 1381.2098 - val_mae: 30.7697\n",
            "Epoch 44/50\n",
            "11/11 [==============================] - 0s 7ms/step - loss: 1354.9194 - mse: 1354.9194 - mae: 30.4584 - val_loss: 1301.1133 - val_mse: 1301.1133 - val_mae: 29.8304\n",
            "Epoch 45/50\n",
            "11/11 [==============================] - 0s 7ms/step - loss: 1277.9247 - mse: 1277.9247 - mae: 29.5432 - val_loss: 1228.3752 - val_mse: 1228.3752 - val_mae: 28.9432\n",
            "Epoch 46/50\n",
            "11/11 [==============================] - 0s 5ms/step - loss: 1208.1724 - mse: 1208.1724 - mae: 28.6814 - val_loss: 1162.5703 - val_mse: 1162.5703 - val_mae: 28.1028\n",
            "Epoch 47/50\n",
            "11/11 [==============================] - 0s 6ms/step - loss: 1144.8616 - mse: 1144.8616 - mae: 27.8643 - val_loss: 1102.9801 - val_mse: 1102.9801 - val_mae: 27.3209\n",
            "Epoch 48/50\n",
            "11/11 [==============================] - 0s 6ms/step - loss: 1087.2294 - mse: 1087.2294 - mae: 27.0982 - val_loss: 1048.6807 - val_mse: 1048.6807 - val_mae: 26.5967\n",
            "Epoch 49/50\n",
            "11/11 [==============================] - 0s 6ms/step - loss: 1034.8292 - mse: 1034.8292 - mae: 26.3887 - val_loss: 998.9175 - val_mse: 998.9175 - val_mae: 25.9214\n",
            "Epoch 50/50\n",
            "11/11 [==============================] - 0s 6ms/step - loss: 987.3169 - mse: 987.3169 - mae: 25.7309 - val_loss: 952.8607 - val_mse: 952.8607 - val_mae: 25.2818\n"
          ]
        }
      ],
      "source": [
        "# Training and evaluating the model\n",
        "history=model.fit(X_train, Y_train, validation_data=(X_test,Y_test),epochs =50, batch_size=1000)"
      ]
    },
    {
      "cell_type": "code",
      "execution_count": 24,
      "metadata": {
        "colab": {
          "base_uri": "https://localhost:8080/",
          "height": 295
        },
        "id": "xiNRBlM4z-_L",
        "outputId": "b0afd32c-cc48-4a1e-a131-6e9fc35eba53"
      },
      "outputs": [
        {
          "output_type": "display_data",
          "data": {
            "text/plain": [
              "<Figure size 432x288 with 1 Axes>"
            ],
            "image/png": "[encoded data removed]"
          },
          "metadata": {
            "needs_background": "light"
          }
        }
      ],
      "source": [
        "# plot loss during training\n",
        "\n",
        "plt.title('Model Loss(MSE)')\n",
        "plt.plot(history.history['loss'], label='train')\n",
        "plt.plot(history.history['val_loss'], label='test')\n",
        "plt.ylabel('MSE')\n",
        "plt.xlabel('epoch')\n",
        "\n",
        "plt.legend()\n",
        "plt.show()"
      ]
    },
    {
      "cell_type": "code",
      "execution_count": 25,
      "metadata": {
        "colab": {
          "base_uri": "https://localhost:8080/",
          "height": 0
        },
        "id": "thuPF8irz-_M",
        "outputId": "8a107398-5020-4680-c28d-2c20c2cde7be"
      },
      "outputs": [
        {
          "output_type": "stream",
          "name": "stdout",
          "text": [
            "329/329 [==============================] - 1s 1ms/step\n",
            "141/141 [==============================] - 0s 1ms/step\n",
            "Training set rmse: 31.012, Testing set rmse: 30.868\n"
          ]
        }
      ],
      "source": [
        "# evaluate the model\n",
        "\n",
        "y_train_pred= model.predict(X_train)\n",
        "y_test_pred= model.predict(X_test)\n",
        "\n",
        "from sklearn.metrics import mean_squared_error\n",
        "\n",
        "train_rmse = mean_squared_error(Y_train,y_train_pred,squared=False)\n",
        "test_rmse = mean_squared_error(Y_test, y_test_pred,squared=False)\n",
        "\n",
        "print('Training set rmse: %.3f, Testing set rmse: %.3f' % (train_rmse, test_rmse))"
      ]
    },
    {
      "cell_type": "markdown",
      "metadata": {
        "id": "vIBQD5N8z-_M"
      },
      "source": [
        "## Hyperparameter Tuning using RandomizedSearchCV"
      ]
    },
    {
      "cell_type": "markdown",
      "metadata": {
        "id": "XvwiSCm-z-_M"
      },
      "source": [
        "https://towardsdatascience.com/regression-based-neural-networks-with-tensorflow-v2-0-predicting-average-daily-rates-e20fffa7ac9a"
      ]
    },
    {
      "cell_type": "code",
      "execution_count": 26,
      "metadata": {
        "id": "99F_UBpmz-_N"
      },
      "outputs": [],
      "source": [
        "from sklearn.model_selection import RandomizedSearchCV, KFold"
      ]
    },
    {
      "cell_type": "code",
      "execution_count": 27,
      "metadata": {
        "id": "UGkAkyhoz-_N"
      },
      "outputs": [],
      "source": [
        "from keras.optimizers import Adam"
      ]
    },
    {
      "cell_type": "code",
      "execution_count": 28,
      "metadata": {
        "id": "0Jj3WKnsz-_N"
      },
      "outputs": [],
      "source": [
        "from keras.wrappers.scikit_learn import KerasRegressor\n"
      ]
    },
    {
      "cell_type": "code",
      "execution_count": 29,
      "metadata": {
        "id": "SdOPHjesz-_N"
      },
      "outputs": [],
      "source": [
        "# Building a keras regression model\n",
        "\n",
        "def keras_reg_model(learning_rate,activation_function,init,neuron1,neuron2):\n",
        "    \n",
        "    model = Sequential()\n",
        "    \n",
        "    model.add(Dense(neuron1,input_dim = 10,kernel_initializer = init,activation = activation_function))\n",
        " \n",
        "    model.add(Dense(neuron2,input_dim = neuron1,kernel_initializer = init,activation = activation_function))\n",
        "\n",
        "    model.add(Dense(1,activation = 'linear'))\n",
        "    \n",
        "    adam = Adam(lr = learning_rate)\n",
        "    \n",
        "    model.compile(loss = 'mse',optimizer = adam,metrics = ['mse','mae'])\n",
        "    return model"
      ]
    },
    {
      "cell_type": "code",
      "execution_count": 30,
      "metadata": {
        "colab": {
          "base_uri": "https://localhost:8080/",
          "height": 0
        },
        "id": "S93fc49Qz-_O",
        "outputId": "564b9205-981a-484c-b61d-9395bd8a8956"
      },
      "outputs": [
        {
          "output_type": "stream",
          "name": "stderr",
          "text": [
            "<ipython-input-30-fa058dad983b>:3: DeprecationWarning: KerasRegressor is deprecated, use Sci-Keras (https://github.com/adriangb/scikeras) instead. See https://www.adriangb.com/scikeras/stable/migration.html for help migrating.\n",
            "  keras_reg = KerasRegressor(build_fn = keras_reg_model,verbose = 0)\n"
          ]
        }
      ],
      "source": [
        "# Wrapping the keras model in a object\n",
        "\n",
        "keras_reg = KerasRegressor(build_fn = keras_reg_model,verbose = 0)"
      ]
    },
    {
      "cell_type": "code",
      "execution_count": 31,
      "metadata": {
        "colab": {
          "base_uri": "https://localhost:8080/",
          "height": 0
        },
        "id": "6KLm_j60z-_O",
        "outputId": "1657d633-3c98-4ab1-f877-c4250dca8e2c"
      },
      "outputs": [
        {
          "output_type": "stream",
          "name": "stdout",
          "text": [
            "Fitting 5 folds for each of 10 candidates, totalling 50 fits\n"
          ]
        },
        {
          "output_type": "stream",
          "name": "stderr",
          "text": [
            "/usr/local/lib/python3.8/dist-packages/keras/optimizers/optimizer_v2/adam.py:110: UserWarning: The `lr` argument is deprecated, use `learning_rate` instead.\n",
            "  super(Adam, self).__init__(name, **kwargs)\n"
          ]
        }
      ],
      "source": [
        "# Define the search parameters\n",
        "\n",
        "batch_size = [10,50,100,500,1000,2000]\n",
        "epochs = [25,50,80,100,150]\n",
        "learning_rate = [0.001,0.01,0.1]\n",
        "\n",
        "activation_function = ['elu','relu','linear']\n",
        "init = ['uniform','normal','zero']\n",
        "neuron1 = [5,10,20,30]\n",
        "neuron2 = [5,10,20,30]\n",
        "\n",
        "\n",
        "# Create a dictionary of the parameters\n",
        "\n",
        "param_grids = dict(batch_size = batch_size,epochs = epochs,learning_rate = learning_rate,\n",
        "                   activation_function = activation_function,init = init,neuron1 = neuron1,neuron2 = neuron2)\n",
        "\n",
        "\n",
        "# Build and fit the RandomizedSearchCV\n",
        "\n",
        "random_search = RandomizedSearchCV(estimator = keras_reg,param_distributions = param_grids,cv = 5,n_jobs=-1,verbose = 10,\n",
        "                                   random_state=40)\n",
        "random_result = random_search.fit(X_train,Y_train)\n",
        "\n"
      ]
    },
    {
      "cell_type": "code",
      "execution_count": 32,
      "metadata": {
        "colab": {
          "base_uri": "https://localhost:8080/",
          "height": 0
        },
        "id": "7j7SMTz3z-_O",
        "outputId": "2e361bcd-2e4e-453b-acd9-813cb82d2cf8"
      },
      "outputs": [
        {
          "output_type": "stream",
          "name": "stdout",
          "text": [
            "Best score: -0.5662750363349914\n",
            "Best parameters: {'neuron2': 20, 'neuron1': 10, 'learning_rate': 0.01, 'init': 'normal', 'epochs': 25, 'batch_size': 1000, 'activation_function': 'linear'}\n"
          ]
        }
      ],
      "source": [
        "# Summarize the results\n",
        "print('Best score:',random_result.best_score_)\n",
        "print('Best parameters:',random_result.best_params_)\n"
      ]
    },
    {
      "cell_type": "code",
      "execution_count": 33,
      "metadata": {
        "colab": {
          "base_uri": "https://localhost:8080/",
          "height": 0
        },
        "id": "8E57vdi0z-_P",
        "outputId": "04461fea-8dc2-4bc6-f998-5195c07b0280"
      },
      "outputs": [
        {
          "output_type": "stream",
          "name": "stdout",
          "text": [
            "Epoch 1/25\n"
          ]
        },
        {
          "output_type": "stream",
          "name": "stderr",
          "text": [
            "/usr/local/lib/python3.8/dist-packages/keras/optimizers/optimizer_v2/adam.py:110: UserWarning: The `lr` argument is deprecated, use `learning_rate` instead.\n",
            "  super(Adam, self).__init__(name, **kwargs)\n"
          ]
        },
        {
          "output_type": "stream",
          "name": "stdout",
          "text": [
            "11/11 [==============================] - 1s 22ms/step - loss: 18096.7734 - mse: 18096.7734 - mae: 133.6710 - val_loss: 17761.7109 - val_mse: 17761.7109 - val_mae: 132.6749\n",
            "Epoch 2/25\n",
            "11/11 [==============================] - 0s 5ms/step - loss: 17185.8770 - mse: 17185.8770 - mae: 130.8126 - val_loss: 16247.5820 - val_mse: 16247.5820 - val_mae: 127.3530\n",
            "Epoch 3/25\n",
            "11/11 [==============================] - 0s 6ms/step - loss: 15201.0020 - mse: 15201.0020 - mae: 122.7081 - val_loss: 13256.7002 - val_mse: 13256.7002 - val_mae: 114.4702\n",
            "Epoch 4/25\n",
            "11/11 [==============================] - 0s 5ms/step - loss: 11034.2803 - mse: 11034.2803 - mae: 104.5217 - val_loss: 7754.9976 - val_mse: 7754.9976 - val_mae: 87.7732\n",
            "Epoch 5/25\n",
            "11/11 [==============================] - 0s 8ms/step - loss: 4992.6709 - mse: 4992.6709 - mae: 69.2669 - val_loss: 1725.3795 - val_mse: 1725.3795 - val_mae: 41.3720\n",
            "Epoch 6/25\n",
            "11/11 [==============================] - 0s 7ms/step - loss: 562.6471 - mse: 562.6471 - mae: 19.3042 - val_loss: 107.5315 - val_mse: 107.5315 - val_mae: 9.7462\n",
            "Epoch 7/25\n",
            "11/11 [==============================] - 0s 7ms/step - loss: 302.8586 - mse: 302.8586 - mae: 16.8287 - val_loss: 233.7373 - val_mse: 233.7373 - val_mae: 15.2168\n",
            "Epoch 8/25\n",
            "11/11 [==============================] - 0s 7ms/step - loss: 79.4229 - mse: 79.4229 - mae: 7.3319 - val_loss: 8.1238 - val_mse: 8.1238 - val_mae: 2.6310\n",
            "Epoch 9/25\n",
            "11/11 [==============================] - 0s 6ms/step - loss: 29.2591 - mse: 29.2591 - mae: 5.1093 - val_loss: 27.2367 - val_mse: 27.2367 - val_mae: 5.1278\n",
            "Epoch 10/25\n",
            "11/11 [==============================] - 0s 6ms/step - loss: 11.0814 - mse: 11.0814 - mae: 2.8119 - val_loss: 1.0391 - val_mse: 1.0391 - val_mae: 0.7643\n",
            "Epoch 11/25\n",
            "11/11 [==============================] - 0s 7ms/step - loss: 3.3331 - mse: 3.3331 - mae: 1.5801 - val_loss: 3.3638 - val_mse: 3.3638 - val_mae: 1.6714\n",
            "Epoch 12/25\n",
            "11/11 [==============================] - 0s 8ms/step - loss: 1.6008 - mse: 1.6008 - mae: 1.0096 - val_loss: 0.7291 - val_mse: 0.7291 - val_mae: 0.6368\n",
            "Epoch 13/25\n",
            "11/11 [==============================] - 0s 5ms/step - loss: 0.9594 - mse: 0.9594 - mae: 0.7781 - val_loss: 0.8482 - val_mse: 0.8482 - val_mae: 0.7316\n",
            "Epoch 14/25\n",
            "11/11 [==============================] - 0s 6ms/step - loss: 0.6771 - mse: 0.6771 - mae: 0.6292 - val_loss: 0.6312 - val_mse: 0.6312 - val_mae: 0.5928\n",
            "Epoch 15/25\n",
            "11/11 [==============================] - 0s 5ms/step - loss: 0.6479 - mse: 0.6479 - mae: 0.5983 - val_loss: 0.6084 - val_mse: 0.6084 - val_mae: 0.5721\n",
            "Epoch 16/25\n",
            "11/11 [==============================] - 0s 7ms/step - loss: 0.6076 - mse: 0.6076 - mae: 0.5813 - val_loss: 0.6109 - val_mse: 0.6109 - val_mae: 0.5920\n",
            "Epoch 17/25\n",
            "11/11 [==============================] - 0s 7ms/step - loss: 0.6013 - mse: 0.6013 - mae: 0.5813 - val_loss: 0.5863 - val_mse: 0.5863 - val_mae: 0.5671\n",
            "Epoch 18/25\n",
            "11/11 [==============================] - 0s 7ms/step - loss: 0.5905 - mse: 0.5905 - mae: 0.5692 - val_loss: 0.5878 - val_mse: 0.5878 - val_mae: 0.5674\n",
            "Epoch 19/25\n",
            "11/11 [==============================] - 0s 9ms/step - loss: 0.5909 - mse: 0.5909 - mae: 0.5720 - val_loss: 0.5912 - val_mse: 0.5912 - val_mae: 0.5725\n",
            "Epoch 20/25\n",
            "11/11 [==============================] - 0s 7ms/step - loss: 0.5946 - mse: 0.5946 - mae: 0.5727 - val_loss: 0.5847 - val_mse: 0.5847 - val_mae: 0.5563\n",
            "Epoch 21/25\n",
            "11/11 [==============================] - 0s 7ms/step - loss: 0.5894 - mse: 0.5894 - mae: 0.5665 - val_loss: 0.5815 - val_mse: 0.5815 - val_mae: 0.5617\n",
            "Epoch 22/25\n",
            "11/11 [==============================] - 0s 8ms/step - loss: 0.5845 - mse: 0.5845 - mae: 0.5646 - val_loss: 0.5819 - val_mse: 0.5819 - val_mae: 0.5667\n",
            "Epoch 23/25\n",
            "11/11 [==============================] - 0s 7ms/step - loss: 0.5838 - mse: 0.5838 - mae: 0.5654 - val_loss: 0.5816 - val_mse: 0.5816 - val_mae: 0.5669\n",
            "Epoch 24/25\n",
            "11/11 [==============================] - 0s 6ms/step - loss: 0.5756 - mse: 0.5756 - mae: 0.5605 - val_loss: 0.5786 - val_mse: 0.5786 - val_mae: 0.5598\n",
            "Epoch 25/25\n",
            "11/11 [==============================] - 0s 6ms/step - loss: 0.5760 - mse: 0.5760 - mae: 0.5596 - val_loss: 0.5699 - val_mse: 0.5699 - val_mae: 0.5523\n"
          ]
        }
      ],
      "source": [
        "## storing the best parameters in a variable\n",
        "## fitting the model with best parameters\n",
        "\n",
        "d1= random_result.best_params_\n",
        "\n",
        "keras_tuned=keras_reg_model(learning_rate=d1['learning_rate'],activation_function=d1['activation_function'],init=d1['init'],\n",
        "                                                                                       neuron1=d1['neuron1'],neuron2=d1['neuron2'])\n",
        "\n",
        "# Training and evaluating the model\n",
        "history2=keras_tuned.fit(X_train, Y_train, validation_data=(X_test,Y_test),\n",
        "                         epochs =d1['epochs'], batch_size=d1['batch_size'])\n"
      ]
    },
    {
      "cell_type": "code",
      "execution_count": 34,
      "metadata": {
        "colab": {
          "base_uri": "https://localhost:8080/",
          "height": 295
        },
        "id": "16hfEEB2z-_P",
        "outputId": "724a374d-8fb4-4eed-fb84-2187739045d4"
      },
      "outputs": [
        {
          "output_type": "display_data",
          "data": {
            "text/plain": [
              "<Figure size 432x288 with 1 Axes>"
            ],
            "image/png": "[encoded data removed]"
          },
          "metadata": {
            "needs_background": "light"
          }
        }
      ],
      "source": [
        "# PLotting Loss(MSE) After Tuning\n",
        "\n",
        "plt.title('Model Loss(MSE)After Tuning')\n",
        "plt.plot(history2.history['loss'], label='train')\n",
        "plt.plot(history2.history['val_loss'], label='test')\n",
        "plt.ylabel('MSE')\n",
        "plt.xlabel('epoch')\n",
        "\n",
        "plt.legend()\n",
        "plt.show()"
      ]
    },
    {
      "cell_type": "code",
      "execution_count": 35,
      "metadata": {
        "colab": {
          "base_uri": "https://localhost:8080/",
          "height": 0
        },
        "id": "KopU1c6iz-_Q",
        "outputId": "ee678d6c-4ad1-4572-eb91-e3499afb978e"
      },
      "outputs": [
        {
          "output_type": "stream",
          "name": "stdout",
          "text": [
            "329/329 [==============================] - 1s 1ms/step\n",
            "141/141 [==============================] - 0s 2ms/step\n",
            "Training set rmse : 0.757, Testing set rmse: 0.755\n"
          ]
        }
      ],
      "source": [
        "# evaluate the model\n",
        "\n",
        "y_train_pred_tuned= keras_tuned.predict(X_train)\n",
        "y_test_pred_tuned= keras_tuned.predict(X_test)\n",
        "\n",
        "from sklearn.metrics import mean_squared_error\n",
        "\n",
        "train_rmse_tuned = mean_squared_error(Y_train,y_train_pred_tuned,squared=False)\n",
        "test_rmse_tuned = mean_squared_error(Y_test, y_test_pred_tuned,squared=False)\n",
        "\n",
        "print('Training set rmse : %.3f, Testing set rmse: %.3f' % (train_rmse_tuned, test_rmse_tuned))"
      ]
    },
    {
      "cell_type": "markdown",
      "metadata": {
        "id": "d_HM8V9Fz-_Q"
      },
      "source": [
        "## Comparing base model and tuned model"
      ]
    },
    {
      "cell_type": "code",
      "execution_count": 36,
      "metadata": {
        "colab": {
          "base_uri": "https://localhost:8080/",
          "height": 112
        },
        "id": "3-k6CLNpz-_Q",
        "outputId": "df5deb39-7b1a-493c-fb48-b3d2a119dd04"
      },
      "outputs": [
        {
          "output_type": "execute_result",
          "data": {
            "text/plain": [
              "        models  train rmse  test rmse\n",
              "0   base model   31.012432  30.868443\n",
              "1  tuned model    0.757195   0.754935"
            ],
            "text/html": [
              "\n",
              "  <div id=\"df-8ef71350-3e88-45f8-81e4-ba16fe080896\">\n",
              "    <div class=\"colab-df-container\">\n",
              "      <div>\n",
              "<style scoped>\n",
              "    .dataframe tbody tr th:only-of-type {\n",
              "        vertical-align: middle;\n",
              "    }\n",
              "\n",
              "    .dataframe tbody tr th {\n",
              "        vertical-align: top;\n",
              "    }\n",
              "\n",
              "    .dataframe thead th {\n",
              "        text-align: right;\n",
              "    }\n",
              "</style>\n",
              "<table border=\"1\" class=\"dataframe\">\n",
              "  <thead>\n",
              "    <tr style=\"text-align: right;\">\n",
              "      <th></th>\n",
              "      <th>models</th>\n",
              "      <th>train rmse</th>\n",
              "      <th>test rmse</th>\n",
              "    </tr>\n",
              "  </thead>\n",
              "  <tbody>\n",
              "    <tr>\n",
              "      <th>0</th>\n",
              "      <td>base model</td>\n",
              "      <td>31.012432</td>\n",
              "      <td>30.868443</td>\n",
              "    </tr>\n",
              "    <tr>\n",
              "      <th>1</th>\n",
              "      <td>tuned model</td>\n",
              "      <td>0.757195</td>\n",
              "      <td>0.754935</td>\n",
              "    </tr>\n",
              "  </tbody>\n",
              "</table>\n",
              "</div>\n",
              "      <button class=\"colab-df-convert\" onclick=\"convertToInteractive('df-8ef71350-3e88-45f8-81e4-ba16fe080896')\"\n",
              "              title=\"Convert this dataframe to an interactive table.\"\n",
              "              style=\"display:none;\">\n",
              "        \n",
              "  <svg xmlns=\"http://www.w3.org/2000/svg\" height=\"24px\"viewBox=\"0 0 24 24\"\n",
              "       width=\"24px\">\n",
              "    <path d=\"M0 0h24v24H0V0z\" fill=\"none\"/>\n",
              "    <path d=\"M18.56 5.44l.94 2.06.94-2.06 2.06-.94-2.06-.94-.94-2.06-.94 2.06-2.06.94zm-11 1L8.5 8.5l.94-2.06 2.06-.94-2.06-.94L8.5 2.5l-.94 2.06-2.06.94zm10 10l.94 2.06.94-2.06 2.06-.94-2.06-.94-.94-2.06-.94 2.06-2.06.94z\"/><path d=\"M17.41 7.96l-1.37-1.37c-.4-.4-.92-.59-1.43-.59-.52 0-1.04.2-1.43.59L10.3 9.45l-7.72 7.72c-.78.78-.78 2.05 0 2.83L4 21.41c.39.39.9.59 1.41.59.51 0 1.02-.2 1.41-.59l7.78-7.78 2.81-2.81c.8-.78.8-2.07 0-2.86zM5.41 20L4 18.59l7.72-7.72 1.47 1.35L5.41 20z\"/>\n",
              "  </svg>\n",
              "      </button>\n",
              "      \n",
              "  <style>\n",
              "    .colab-df-container {\n",
              "      display:flex;\n",
              "      flex-wrap:wrap;\n",
              "      gap: 12px;\n",
              "    }\n",
              "\n",
              "    .colab-df-convert {\n",
              "      background-color: #E8F0FE;\n",
              "      border: none;\n",
              "      border-radius: 50%;\n",
              "      cursor: pointer;\n",
              "      display: none;\n",
              "      fill: #1967D2;\n",
              "      height: 32px;\n",
              "      padding: 0 0 0 0;\n",
              "      width: 32px;\n",
              "    }\n",
              "\n",
              "    .colab-df-convert:hover {\n",
              "      background-color: #E2EBFA;\n",
              "      box-shadow: 0px 1px 2px rgba(60, 64, 67, 0.3), 0px 1px 3px 1px rgba(60, 64, 67, 0.15);\n",
              "      fill: #174EA6;\n",
              "    }\n",
              "\n",
              "    [theme=dark] .colab-df-convert {\n",
              "      background-color: #3B4455;\n",
              "      fill: #D2E3FC;\n",
              "    }\n",
              "\n",
              "    [theme=dark] .colab-df-convert:hover {\n",
              "      background-color: #434B5C;\n",
              "      box-shadow: 0px 1px 3px 1px rgba(0, 0, 0, 0.15);\n",
              "      filter: drop-shadow(0px 1px 2px rgba(0, 0, 0, 0.3));\n",
              "      fill: #FFFFFF;\n",
              "    }\n",
              "  </style>\n",
              "\n",
              "      <script>\n",
              "        const buttonEl =\n",
              "          document.querySelector('#df-8ef71350-3e88-45f8-81e4-ba16fe080896 button.colab-df-convert');\n",
              "        buttonEl.style.display =\n",
              "          google.colab.kernel.accessAllowed ? 'block' : 'none';\n",
              "\n",
              "        async function convertToInteractive(key) {\n",
              "          const element = document.querySelector('#df-8ef71350-3e88-45f8-81e4-ba16fe080896');\n",
              "          const dataTable =\n",
              "            await google.colab.kernel.invokeFunction('convertToInteractive',\n",
              "                                                     [key], {});\n",
              "          if (!dataTable) return;\n",
              "\n",
              "          const docLinkHtml = 'Like what you see? Visit the ' +\n",
              "            '<a target=\"_blank\" href=https://colab.research.google.com/notebooks/data_table.ipynb>data table notebook</a>'\n",
              "            + ' to learn more about interactive tables.';\n",
              "          element.innerHTML = '';\n",
              "          dataTable['output_type'] = 'display_data';\n",
              "          await google.colab.output.renderOutput(dataTable, element);\n",
              "          const docLink = document.createElement('div');\n",
              "          docLink.innerHTML = docLinkHtml;\n",
              "          element.appendChild(docLink);\n",
              "        }\n",
              "      </script>\n",
              "    </div>\n",
              "  </div>\n",
              "  "
            ]
          },
          "metadata": {},
          "execution_count": 36
        }
      ],
      "source": [
        "result=pd.DataFrame({'models':['base model','tuned model'],'train rmse':[train_rmse,train_rmse_tuned],\n",
        "                     'test rmse':[test_rmse,test_rmse_tuned]})\n",
        "result"
      ]
    },
    {
      "cell_type": "markdown",
      "metadata": {
        "id": "OSNx_fkrz-_R"
      },
      "source": [
        "For both base model and tuned model, the difference between rmse for train and test set is very low indicating almost no overfitting.\n",
        "\n",
        "For tuned model,the rmse has decreased compared to base model suggesting that hypertuning parameters has increased the efficiency of this regression model."
      ]
    },
    {
      "cell_type": "code",
      "execution_count": 36,
      "metadata": {
        "id": "CihbA2cCz-_R"
      },
      "outputs": [],
      "source": []
    }
  ],
  "metadata": {
    "kernelspec": {
      "display_name": "Python 3",
      "language": "python",
      "name": "python3"
    },
    "language_info": {
      "codemirror_mode": {
        "name": "ipython",
        "version": 3
      },
      "file_extension": ".py",
      "mimetype": "text/x-python",
      "name": "python",
      "nbconvert_exporter": "python",
      "pygments_lexer": "ipython3",
      "version": "3.8.3"
    },
    "colab": {
      "provenance": [],
      "include_colab_link": true
    }
  },
  "nbformat": 4,
  "nbformat_minor": 0
}